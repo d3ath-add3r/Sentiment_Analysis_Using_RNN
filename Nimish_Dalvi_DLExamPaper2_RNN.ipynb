{
  "nbformat": 4,
  "nbformat_minor": 0,
  "metadata": {
    "colab": {
      "name": "Nimish_Dalvi_DLExamPaper2_RNN.ipynb",
      "provenance": [],
      "collapsed_sections": [],
      "authorship_tag": "ABX9TyOvg2m7TGAcaInropbuBbH/",
      "include_colab_link": true
    },
    "kernelspec": {
      "name": "python3",
      "display_name": "Python 3"
    },
    "language_info": {
      "name": "python"
    },
    "accelerator": "GPU"
  },
  "cells": [
    {
      "cell_type": "markdown",
      "metadata": {
        "id": "view-in-github",
        "colab_type": "text"
      },
      "source": [
        "<a href=\"https://colab.research.google.com/github/d3ath-add3r/Sentiment_Analysis_Using_RNN/blob/main/Nimish_Dalvi_DLExamPaper2_RNN.ipynb\" target=\"_parent\"><img src=\"https://colab.research.google.com/assets/colab-badge.svg\" alt=\"Open In Colab\"/></a>"
      ]
    },
    {
      "cell_type": "markdown",
      "source": [
        "<style type = \"text/css\">\n",
        ".bgimg {\n",
        "    backgroung-image: url(\"https://external-content.duckduckgo.com/iu/?u=https%3A%2F%2Ftse3.mm.bing.net%2Fth%3Fid%3DOIP.dzT0qF83LMnfTq8cRwDcaQHaEK%26pid%3DApi&f=1\");\n",
        "}\n",
        "</style>\n",
        "\n",
        "<div class=\"bgimg\" align=\"center\">\n",
        "<table>\n",
        "    <tr>\n",
        "        <td width=20%>\n",
        "        <img src = https://external-content.duckduckgo.com/iu/?u=https%3A%2F%2Ftse2.mm.bing.net%2Fth%3Fid%3DOIP.uRoHwRvX6pKwT54Rx7ia9QHaE8%26pid%3DApi&f=1>\n",
        "        </td>\n",
        "        <td align=\"center\">\n",
        "            <font face= \"Garamond\" size =\"10\" color=\"Red\"> Part II : RNN </font>\n",
        "            </br>\n",
        "            <font face= \"Georgia\" size =\"6\" color=\"Orange\"> Sentiment Analysis using RNN </font>\n",
        "</div>"
      ],
      "metadata": {
        "id": "cMcqGT6X4PaM"
      }
    },
    {
      "cell_type": "markdown",
      "source": [
        "## **About the dataset :**\n",
        "The Social Dilemma, a documentary-drama hybrid explores the dangerous human impact of social \n",
        "networking, with tech experts sounding the alarm on their own creations as the tech experts \n",
        "sound the alarm on the dangerous human impact of social networking. This dataset brings you the \n",
        "twitter responses made with the #TheSocialDilemma hashtag after watching the eye-opening \n",
        "documentary \"The Social Dilemma\" released in an OTT platform(Netflix) on September 9th, 2020.\n",
        "<br><br>\n",
        "**Attribute Information:**\n",
        "1. user_name - The name of the user, as they’ve defined it.\n",
        "2. user_location - The user-defined location for this account’s profile.\n",
        "3. user_description - The user-defined UTF-8 string describing their account.\n",
        "4. user_created - Time and date, when the account was created.\n",
        "5. user_followers - The number of followers an account currently has.\n",
        "6. user_friends – The number of friends an account currently has.\n",
        "7. user_favourites - The number of favorites an account currently has.\n",
        "8. user_verified - When true, indicates that the user has a verified account.\n",
        "9. date - UTC time and date when the Tweet was created.\n",
        "10. hashtags - All the other hashtags posted in the tweet along with #TheSocialDilemma\n",
        "11. source - Utility used to post the Tweet, Tweets from the Twitter website have a source \n",
        "value – web\n",
        "12. is_retweet - Indicates whether this Tweet has been Retweeted by the authenticating user.\n",
        "13. clean_text – Cleaned text of the tweet.\n",
        "14. Sentiment (target) - Indicates the sentiment of the tweet, consists of three categories: \n",
        "Positive, neutral, and negative.\n",
        "<br><br><br>\n",
        "The datasets can be accessed from drive folder under folder \"Tweets\".\n",
        "<br>\n",
        "<a href=\"https://drive.google.com/drive/folders/1YWKIr5yL4mfsiXFAW1Ft7CTxlJ8KRGBh?usp=sharing\"> Drive Folder </a>\n",
        "<br><br>\n",
        "It has two csv files:\n",
        "* tweets_train : File with labels for training\n",
        "* tweets_test : File without labels for prediction."
      ],
      "metadata": {
        "id": "9aApQJO-8GKN"
      }
    },
    {
      "cell_type": "code",
      "execution_count": null,
      "metadata": {
        "id": "eWxT4vuv2YyM"
      },
      "outputs": [],
      "source": [
        "# We will use tensorflow version 2.4.1\n",
        "# Install proper version of Tensorflow\n",
        "!pip install tensorflow==2.4.1"
      ]
    },
    {
      "cell_type": "markdown",
      "source": [
        "# **Importing required packages**"
      ],
      "metadata": {
        "id": "mULnSGvQ-uqG"
      }
    },
    {
      "cell_type": "code",
      "source": [
        "# libraries\n",
        "import pandas as pd\n",
        "import numpy as np\n",
        "import re\n",
        "import os\n",
        "\n",
        "import matplotlib.pyplot as plt\n",
        "%matplotlib inline\n",
        "import seaborn as sns\n",
        "sns.set()\n",
        "\n",
        "from sklearn.model_selection import train_test_split\n",
        "from sklearn.metrics import confusion_matrix, accuracy_score, classification_report\n",
        "\n",
        "from tensorflow import keras\n",
        "from tensorflow.keras.preprocessing.text import Tokenizer\n",
        "from tensorflow.keras.preprocessing.sequence import pad_sequences\n",
        "\n",
        "from tensorflow.keras.layers import Dense, SimpleRNN, Embedding, Flatten\n",
        "from tensorflow.keras.models import Model, Sequential\n",
        "from tensorflow.keras.optimizers import Adam\n",
        "import tensorflow as tf\n",
        "\n",
        "import itertools\n",
        "\n",
        "import warnings\n",
        "warnings.filterwarnings('ignore')"
      ],
      "metadata": {
        "id": "HqfzkhZ6-r0V"
      },
      "execution_count": null,
      "outputs": []
    },
    {
      "cell_type": "code",
      "source": [
        "# Check tensorflow version\n",
        "print(tf.__version__)"
      ],
      "metadata": {
        "colab": {
          "base_uri": "https://localhost:8080/"
        },
        "id": "hxIWFxTKAM1F",
        "outputId": "c6da36ae-60dc-43e8-ae39-f913d34871f1"
      },
      "execution_count": null,
      "outputs": [
        {
          "output_type": "stream",
          "name": "stdout",
          "text": [
            "2.4.1\n"
          ]
        }
      ]
    },
    {
      "cell_type": "markdown",
      "source": [
        "### **Load Data from Drive**"
      ],
      "metadata": {
        "id": "Z-0B_nj7D-hU"
      }
    },
    {
      "cell_type": "code",
      "source": [
        "# mount the drive\n",
        "from google.colab import drive\n",
        "drive.mount('/content/drive')"
      ],
      "metadata": {
        "colab": {
          "base_uri": "https://localhost:8080/"
        },
        "id": "o8xOuWULEKds",
        "outputId": "b8d7507a-f708-4d64-95ae-06b7c7b7c448"
      },
      "execution_count": null,
      "outputs": [
        {
          "output_type": "stream",
          "name": "stdout",
          "text": [
            "Mounted at /content/drive\n"
          ]
        }
      ]
    },
    {
      "cell_type": "code",
      "source": [
        "# Set directory\n",
        "os.chdir(\"/content/drive/MyDrive/DeepLearningExamPaper2\")\n",
        "!dir"
      ],
      "metadata": {
        "colab": {
          "base_uri": "https://localhost:8080/"
        },
        "id": "5J8BzVwTEQWl",
        "outputId": "186fdada-fbab-46d6-f27e-d890b0cf37aa"
      },
      "execution_count": null,
      "outputs": [
        {
          "output_type": "stream",
          "name": "stdout",
          "text": [
            "Nimish_Dalvi_DLExamPaper2_RNN.ipynb  Tweets\n"
          ]
        }
      ]
    },
    {
      "cell_type": "code",
      "source": [
        "# Read training file\n",
        "df = pd.read_csv(\"Tweets/tweets_train.csv\")\n",
        "df.head()"
      ],
      "metadata": {
        "colab": {
          "base_uri": "https://localhost:8080/",
          "height": 495
        },
        "id": "9Mme_tltEkb2",
        "outputId": "5e2280d5-5441-4280-91b3-72ea499f05e0"
      },
      "execution_count": null,
      "outputs": [
        {
          "output_type": "execute_result",
          "data": {
            "text/html": [
              "\n",
              "  <div id=\"df-4a1968cc-bbdc-4f62-b79c-5b39cfacfecc\">\n",
              "    <div class=\"colab-df-container\">\n",
              "      <div>\n",
              "<style scoped>\n",
              "    .dataframe tbody tr th:only-of-type {\n",
              "        vertical-align: middle;\n",
              "    }\n",
              "\n",
              "    .dataframe tbody tr th {\n",
              "        vertical-align: top;\n",
              "    }\n",
              "\n",
              "    .dataframe thead th {\n",
              "        text-align: right;\n",
              "    }\n",
              "</style>\n",
              "<table border=\"1\" class=\"dataframe\">\n",
              "  <thead>\n",
              "    <tr style=\"text-align: right;\">\n",
              "      <th></th>\n",
              "      <th>user_name</th>\n",
              "      <th>user_location</th>\n",
              "      <th>user_description</th>\n",
              "      <th>user_created</th>\n",
              "      <th>user_followers</th>\n",
              "      <th>user_friends</th>\n",
              "      <th>user_favourites</th>\n",
              "      <th>user_verified</th>\n",
              "      <th>date</th>\n",
              "      <th>hashtags</th>\n",
              "      <th>source</th>\n",
              "      <th>is_retweet</th>\n",
              "      <th>clean_text</th>\n",
              "      <th>Sentiment</th>\n",
              "    </tr>\n",
              "  </thead>\n",
              "  <tbody>\n",
              "    <tr>\n",
              "      <th>0</th>\n",
              "      <td>Romy 👑</td>\n",
              "      <td>Bolton - England</td>\n",
              "      <td>Tables turn, bridges burn, you live and learn.</td>\n",
              "      <td>2009-06-15 09:00:39</td>\n",
              "      <td>525</td>\n",
              "      <td>896</td>\n",
              "      <td>3854</td>\n",
              "      <td>False</td>\n",
              "      <td>2020-09-19 15:19:32</td>\n",
              "      <td>['TheSocialDilemma']</td>\n",
              "      <td>Twitter for Android</td>\n",
              "      <td>False</td>\n",
              "      <td>TheSocialDilemma is an eye opener isn t it ple...</td>\n",
              "      <td>Neutral</td>\n",
              "    </tr>\n",
              "    <tr>\n",
              "      <th>1</th>\n",
              "      <td>TLynn Peterson</td>\n",
              "      <td>Black Canyon City, Arizona</td>\n",
              "      <td>Acquired disability ♿ after an accident. Livin...</td>\n",
              "      <td>2013-05-29 00:17:46</td>\n",
              "      <td>5045</td>\n",
              "      <td>5374</td>\n",
              "      <td>48152</td>\n",
              "      <td>False</td>\n",
              "      <td>2020-09-13 00:31:46</td>\n",
              "      <td>['TheSocialDilemma']</td>\n",
              "      <td>Twitter for Android</td>\n",
              "      <td>False</td>\n",
              "      <td>TheSocialDilemma If we don t agree on what is ...</td>\n",
              "      <td>Positive</td>\n",
              "    </tr>\n",
              "    <tr>\n",
              "      <th>2</th>\n",
              "      <td>Rutger Kosters</td>\n",
              "      <td>Netherlands</td>\n",
              "      <td>Cloud Solution Architect @NetApp | VCDX #209 |...</td>\n",
              "      <td>2014-10-07 09:34:10</td>\n",
              "      <td>574</td>\n",
              "      <td>251</td>\n",
              "      <td>1070</td>\n",
              "      <td>False</td>\n",
              "      <td>2020-09-09 21:10:33</td>\n",
              "      <td>['TheSocialDilemma']</td>\n",
              "      <td>Twitter for Android</td>\n",
              "      <td>False</td>\n",
              "      <td>Watching TheSocialDilemma scary to see social ...</td>\n",
              "      <td>Negative</td>\n",
              "    </tr>\n",
              "    <tr>\n",
              "      <th>3</th>\n",
              "      <td>IDFWU🗯🇿🇼🇿🇦</td>\n",
              "      <td>East London, South Africa</td>\n",
              "      <td>YOU HAVE OPTIONS, YOU CAN’T JUST TAKE WHAT LIF...</td>\n",
              "      <td>2012-08-22 11:09:06</td>\n",
              "      <td>706</td>\n",
              "      <td>618</td>\n",
              "      <td>1320</td>\n",
              "      <td>False</td>\n",
              "      <td>2020-09-11 04:33:08</td>\n",
              "      <td>NaN</td>\n",
              "      <td>Twitter for Android</td>\n",
              "      <td>False</td>\n",
              "      <td>You check your social media before you pee in ...</td>\n",
              "      <td>Positive</td>\n",
              "    </tr>\n",
              "    <tr>\n",
              "      <th>4</th>\n",
              "      <td>Treebel</td>\n",
              "      <td>NaN</td>\n",
              "      <td>NaN</td>\n",
              "      <td>2010-09-25 07:25:31</td>\n",
              "      <td>9</td>\n",
              "      <td>13</td>\n",
              "      <td>55</td>\n",
              "      <td>False</td>\n",
              "      <td>2020-09-17 16:27:38</td>\n",
              "      <td>['thesocialdilemma']</td>\n",
              "      <td>Twitter for iPhone</td>\n",
              "      <td>False</td>\n",
              "      <td>watch thesocialdilemma and see what s actually...</td>\n",
              "      <td>Negative</td>\n",
              "    </tr>\n",
              "  </tbody>\n",
              "</table>\n",
              "</div>\n",
              "      <button class=\"colab-df-convert\" onclick=\"convertToInteractive('df-4a1968cc-bbdc-4f62-b79c-5b39cfacfecc')\"\n",
              "              title=\"Convert this dataframe to an interactive table.\"\n",
              "              style=\"display:none;\">\n",
              "        \n",
              "  <svg xmlns=\"http://www.w3.org/2000/svg\" height=\"24px\"viewBox=\"0 0 24 24\"\n",
              "       width=\"24px\">\n",
              "    <path d=\"M0 0h24v24H0V0z\" fill=\"none\"/>\n",
              "    <path d=\"M18.56 5.44l.94 2.06.94-2.06 2.06-.94-2.06-.94-.94-2.06-.94 2.06-2.06.94zm-11 1L8.5 8.5l.94-2.06 2.06-.94-2.06-.94L8.5 2.5l-.94 2.06-2.06.94zm10 10l.94 2.06.94-2.06 2.06-.94-2.06-.94-.94-2.06-.94 2.06-2.06.94z\"/><path d=\"M17.41 7.96l-1.37-1.37c-.4-.4-.92-.59-1.43-.59-.52 0-1.04.2-1.43.59L10.3 9.45l-7.72 7.72c-.78.78-.78 2.05 0 2.83L4 21.41c.39.39.9.59 1.41.59.51 0 1.02-.2 1.41-.59l7.78-7.78 2.81-2.81c.8-.78.8-2.07 0-2.86zM5.41 20L4 18.59l7.72-7.72 1.47 1.35L5.41 20z\"/>\n",
              "  </svg>\n",
              "      </button>\n",
              "      \n",
              "  <style>\n",
              "    .colab-df-container {\n",
              "      display:flex;\n",
              "      flex-wrap:wrap;\n",
              "      gap: 12px;\n",
              "    }\n",
              "\n",
              "    .colab-df-convert {\n",
              "      background-color: #E8F0FE;\n",
              "      border: none;\n",
              "      border-radius: 50%;\n",
              "      cursor: pointer;\n",
              "      display: none;\n",
              "      fill: #1967D2;\n",
              "      height: 32px;\n",
              "      padding: 0 0 0 0;\n",
              "      width: 32px;\n",
              "    }\n",
              "\n",
              "    .colab-df-convert:hover {\n",
              "      background-color: #E2EBFA;\n",
              "      box-shadow: 0px 1px 2px rgba(60, 64, 67, 0.3), 0px 1px 3px 1px rgba(60, 64, 67, 0.15);\n",
              "      fill: #174EA6;\n",
              "    }\n",
              "\n",
              "    [theme=dark] .colab-df-convert {\n",
              "      background-color: #3B4455;\n",
              "      fill: #D2E3FC;\n",
              "    }\n",
              "\n",
              "    [theme=dark] .colab-df-convert:hover {\n",
              "      background-color: #434B5C;\n",
              "      box-shadow: 0px 1px 3px 1px rgba(0, 0, 0, 0.15);\n",
              "      filter: drop-shadow(0px 1px 2px rgba(0, 0, 0, 0.3));\n",
              "      fill: #FFFFFF;\n",
              "    }\n",
              "  </style>\n",
              "\n",
              "      <script>\n",
              "        const buttonEl =\n",
              "          document.querySelector('#df-4a1968cc-bbdc-4f62-b79c-5b39cfacfecc button.colab-df-convert');\n",
              "        buttonEl.style.display =\n",
              "          google.colab.kernel.accessAllowed ? 'block' : 'none';\n",
              "\n",
              "        async function convertToInteractive(key) {\n",
              "          const element = document.querySelector('#df-4a1968cc-bbdc-4f62-b79c-5b39cfacfecc');\n",
              "          const dataTable =\n",
              "            await google.colab.kernel.invokeFunction('convertToInteractive',\n",
              "                                                     [key], {});\n",
              "          if (!dataTable) return;\n",
              "\n",
              "          const docLinkHtml = 'Like what you see? Visit the ' +\n",
              "            '<a target=\"_blank\" href=https://colab.research.google.com/notebooks/data_table.ipynb>data table notebook</a>'\n",
              "            + ' to learn more about interactive tables.';\n",
              "          element.innerHTML = '';\n",
              "          dataTable['output_type'] = 'display_data';\n",
              "          await google.colab.output.renderOutput(dataTable, element);\n",
              "          const docLink = document.createElement('div');\n",
              "          docLink.innerHTML = docLinkHtml;\n",
              "          element.appendChild(docLink);\n",
              "        }\n",
              "      </script>\n",
              "    </div>\n",
              "  </div>\n",
              "  "
            ],
            "text/plain": [
              "        user_name               user_location  \\\n",
              "0          Romy 👑            Bolton - England   \n",
              "1  TLynn Peterson  Black Canyon City, Arizona   \n",
              "2  Rutger Kosters                 Netherlands   \n",
              "3      IDFWU🗯🇿🇼🇿🇦   East London, South Africa   \n",
              "4         Treebel                         NaN   \n",
              "\n",
              "                                    user_description         user_created  \\\n",
              "0     Tables turn, bridges burn, you live and learn.  2009-06-15 09:00:39   \n",
              "1  Acquired disability ♿ after an accident. Livin...  2013-05-29 00:17:46   \n",
              "2  Cloud Solution Architect @NetApp | VCDX #209 |...  2014-10-07 09:34:10   \n",
              "3  YOU HAVE OPTIONS, YOU CAN’T JUST TAKE WHAT LIF...  2012-08-22 11:09:06   \n",
              "4                                                NaN  2010-09-25 07:25:31   \n",
              "\n",
              "   user_followers  user_friends  user_favourites  user_verified  \\\n",
              "0             525           896             3854          False   \n",
              "1            5045          5374            48152          False   \n",
              "2             574           251             1070          False   \n",
              "3             706           618             1320          False   \n",
              "4               9            13               55          False   \n",
              "\n",
              "                  date              hashtags               source  is_retweet  \\\n",
              "0  2020-09-19 15:19:32  ['TheSocialDilemma']  Twitter for Android       False   \n",
              "1  2020-09-13 00:31:46  ['TheSocialDilemma']  Twitter for Android       False   \n",
              "2  2020-09-09 21:10:33  ['TheSocialDilemma']  Twitter for Android       False   \n",
              "3  2020-09-11 04:33:08                   NaN  Twitter for Android       False   \n",
              "4  2020-09-17 16:27:38  ['thesocialdilemma']   Twitter for iPhone       False   \n",
              "\n",
              "                                          clean_text Sentiment  \n",
              "0  TheSocialDilemma is an eye opener isn t it ple...   Neutral  \n",
              "1  TheSocialDilemma If we don t agree on what is ...  Positive  \n",
              "2  Watching TheSocialDilemma scary to see social ...  Negative  \n",
              "3  You check your social media before you pee in ...  Positive  \n",
              "4  watch thesocialdilemma and see what s actually...  Negative  "
            ]
          },
          "metadata": {},
          "execution_count": 12
        }
      ]
    },
    {
      "cell_type": "code",
      "source": [
        "print(df.info())\n",
        "print(df.shape)"
      ],
      "metadata": {
        "colab": {
          "base_uri": "https://localhost:8080/"
        },
        "id": "jmJ2BAcZE390",
        "outputId": "cb72fc74-6376-4cd2-c53d-223d9243e6fe"
      },
      "execution_count": null,
      "outputs": [
        {
          "output_type": "stream",
          "name": "stdout",
          "text": [
            "<class 'pandas.core.frame.DataFrame'>\n",
            "RangeIndex: 17000 entries, 0 to 16999\n",
            "Data columns (total 14 columns):\n",
            " #   Column            Non-Null Count  Dtype \n",
            "---  ------            --------------  ----- \n",
            " 0   user_name         16999 non-null  object\n",
            " 1   user_location     13393 non-null  object\n",
            " 2   user_description  15838 non-null  object\n",
            " 3   user_created      17000 non-null  object\n",
            " 4   user_followers    17000 non-null  int64 \n",
            " 5   user_friends      17000 non-null  int64 \n",
            " 6   user_favourites   17000 non-null  int64 \n",
            " 7   user_verified     17000 non-null  bool  \n",
            " 8   date              17000 non-null  object\n",
            " 9   hashtags          13351 non-null  object\n",
            " 10  source            17000 non-null  object\n",
            " 11  is_retweet        17000 non-null  bool  \n",
            " 12  clean_text        16992 non-null  object\n",
            " 13  Sentiment         17000 non-null  object\n",
            "dtypes: bool(2), int64(3), object(9)\n",
            "memory usage: 1.6+ MB\n",
            "None\n",
            "(17000, 14)\n"
          ]
        }
      ]
    },
    {
      "cell_type": "markdown",
      "source": [
        "We can see dtype of each feature and nullvalues are present. We will treat them later. Total there are 17000 rows and 14 columns."
      ],
      "metadata": {
        "id": "wSkWRs6PFQwd"
      }
    },
    {
      "cell_type": "markdown",
      "source": [
        "## **Visualisations and EDA :**"
      ],
      "metadata": {
        "id": "KszZEbucFu0x"
      }
    },
    {
      "cell_type": "code",
      "source": [
        "# Sentiments \n",
        "sns.countplot(df[\"Sentiment\"])\n",
        "\n",
        "# % distribution of each category of sentiment\n",
        "neu = round(df[\"Sentiment\"].value_counts()[1]/len(df)*100, 2)\n",
        "pos = round(df[\"Sentiment\"].value_counts()[0]/len(df)*100, 2)\n",
        "neg = round(df[\"Sentiment\"].value_counts()[2]/len(df)*100, 2)\n",
        "\n",
        "print(\"The social dilemma has {}% Positive tweets\".format(pos))\n",
        "print(\"The social dilemma has {}% Neutral tweets\".format(neu))\n",
        "print(\"The social dilemma has {}% Negative tweets\".format(neg))"
      ],
      "metadata": {
        "colab": {
          "base_uri": "https://localhost:8080/",
          "height": 337
        },
        "id": "6lFt8SzWFBAb",
        "outputId": "dbb6ee7f-6fa8-4ca2-dbd2-1aa3f645b143"
      },
      "execution_count": null,
      "outputs": [
        {
          "output_type": "stream",
          "name": "stdout",
          "text": [
            "The social dilemma has 47.41% Positive tweets\n",
            "The social dilemma has 34.86% Neutral tweets\n",
            "The social dilemma has 17.73% Negative tweets\n"
          ]
        },
        {
          "output_type": "display_data",
          "data": {
            "image/png": "[encoded data removed]",
            "text/plain": [
              "<Figure size 432x288 with 1 Axes>"
            ]
          },
          "metadata": {}
        }
      ]
    },
    {
      "cell_type": "markdown",
      "source": [
        "We can say the documentary had Positve response."
      ],
      "metadata": {
        "id": "veHWuequILA7"
      }
    },
    {
      "cell_type": "code",
      "source": [
        "# Number of tweets by user (top 10)\n",
        "user = df['user_name'].value_counts().reset_index()\n",
        "user.columns = ['user_name', 'count']\n",
        "sns.barplot(x=user.head(10)['count'], y=user.head(10)['user_name'], orientation='horizontal')"
      ],
      "metadata": {
        "colab": {
          "base_uri": "https://localhost:8080/",
          "height": 301
        },
        "id": "Gl6R5y4pGwag",
        "outputId": "bd5a013f-73ad-464b-8f42-6b5d8d625858"
      },
      "execution_count": null,
      "outputs": [
        {
          "output_type": "execute_result",
          "data": {
            "text/plain": [
              "<matplotlib.axes._subplots.AxesSubplot at 0x7f2ff7b30050>"
            ]
          },
          "metadata": {},
          "execution_count": 26
        },
        {
          "output_type": "display_data",
          "data": {
            "image/png": "[encoded data removed]",
            "text/plain": [
              "<Figure size 432x288 with 1 Axes>"
            ]
          },
          "metadata": {}
        }
      ]
    },
    {
      "cell_type": "markdown",
      "source": [
        "User \"Our Pact\" has most number of tweets around 200 tweets."
      ],
      "metadata": {
        "id": "HuNA-ZKSKlvV"
      }
    },
    {
      "cell_type": "code",
      "source": [
        "# Number of tweets by user locations (top 10)\n",
        "loca = df['user_location'].value_counts().reset_index()\n",
        "loca.columns = ['user_location', 'count']\n",
        "sns.barplot(x=loca.head(10)['count'], y=loca.head(10)['user_location'], orientation='horizontal')"
      ],
      "metadata": {
        "colab": {
          "base_uri": "https://localhost:8080/",
          "height": 301
        },
        "id": "zp5kXpzBJBku",
        "outputId": "66db7b1b-8674-4148-87b3-620513896bb7"
      },
      "execution_count": null,
      "outputs": [
        {
          "output_type": "execute_result",
          "data": {
            "text/plain": [
              "<matplotlib.axes._subplots.AxesSubplot at 0x7f2ff79facd0>"
            ]
          },
          "metadata": {},
          "execution_count": 27
        },
        {
          "output_type": "display_data",
          "data": {
            "image/png": "[encoded data removed]",
            "text/plain": [
              "<Figure size 432x288 with 1 Axes>"
            ]
          },
          "metadata": {}
        }
      ]
    },
    {
      "cell_type": "markdown",
      "source": [
        "We can see that a large number of tweets is from India as a whole followed by Los Angeles(USA) and again cities of India , Mumbai and  Delhi has lot of reactions too."
      ],
      "metadata": {
        "id": "Zzxz1nasLOnP"
      }
    },
    {
      "cell_type": "code",
      "source": [
        "# Number of tweets from different platforms (Top 5)\n",
        "plat = df['source'].value_counts().reset_index()\n",
        "plat.columns = ['source', 'count']\n",
        "plt.pie(plat.head(5)['count'], labels = plat.head(5)['source'], autopct = '%.0f%%')\n",
        "plt.show()"
      ],
      "metadata": {
        "colab": {
          "base_uri": "https://localhost:8080/",
          "height": 248
        },
        "id": "S_z2x_gALMV3",
        "outputId": "0385414e-9f5b-487e-a7d7-064a0243cba8"
      },
      "execution_count": null,
      "outputs": [
        {
          "output_type": "display_data",
          "data": {
            "image/png": "[encoded data removed]",
            "text/plain": [
              "<Figure size 432x288 with 1 Axes>"
            ]
          },
          "metadata": {}
        }
      ]
    },
    {
      "cell_type": "markdown",
      "source": [
        "We can see that, majority of reactions on the documentary came from iPhone users, followed by ANdroid and Web users."
      ],
      "metadata": {
        "id": "dvWFi9PwOJTX"
      }
    },
    {
      "cell_type": "markdown",
      "source": [
        "## **Data Preprocessing:**"
      ],
      "metadata": {
        "id": "192stqg8Obtc"
      }
    },
    {
      "cell_type": "markdown",
      "source": [
        "We will just need two columns \"clean_text\" and \"Sentiment\" for our model."
      ],
      "metadata": {
        "id": "VpzpDbbxO8xu"
      }
    },
    {
      "cell_type": "code",
      "source": [
        "# Dropping redudant columns\n",
        "df_cs = df[[\"clean_text\",\"Sentiment\"]]\n",
        "df_cs.head()"
      ],
      "metadata": {
        "colab": {
          "base_uri": "https://localhost:8080/",
          "height": 205
        },
        "id": "U64nIFN1MapG",
        "outputId": "90d47b42-fa08-48eb-a218-f0e6e2efac77"
      },
      "execution_count": null,
      "outputs": [
        {
          "output_type": "execute_result",
          "data": {
            "text/html": [
              "\n",
              "  <div id=\"df-086d2af1-b169-489c-8f44-077197de88c5\">\n",
              "    <div class=\"colab-df-container\">\n",
              "      <div>\n",
              "<style scoped>\n",
              "    .dataframe tbody tr th:only-of-type {\n",
              "        vertical-align: middle;\n",
              "    }\n",
              "\n",
              "    .dataframe tbody tr th {\n",
              "        vertical-align: top;\n",
              "    }\n",
              "\n",
              "    .dataframe thead th {\n",
              "        text-align: right;\n",
              "    }\n",
              "</style>\n",
              "<table border=\"1\" class=\"dataframe\">\n",
              "  <thead>\n",
              "    <tr style=\"text-align: right;\">\n",
              "      <th></th>\n",
              "      <th>clean_text</th>\n",
              "      <th>Sentiment</th>\n",
              "    </tr>\n",
              "  </thead>\n",
              "  <tbody>\n",
              "    <tr>\n",
              "      <th>0</th>\n",
              "      <td>TheSocialDilemma is an eye opener isn t it ple...</td>\n",
              "      <td>Neutral</td>\n",
              "    </tr>\n",
              "    <tr>\n",
              "      <th>1</th>\n",
              "      <td>TheSocialDilemma If we don t agree on what is ...</td>\n",
              "      <td>Positive</td>\n",
              "    </tr>\n",
              "    <tr>\n",
              "      <th>2</th>\n",
              "      <td>Watching TheSocialDilemma scary to see social ...</td>\n",
              "      <td>Negative</td>\n",
              "    </tr>\n",
              "    <tr>\n",
              "      <th>3</th>\n",
              "      <td>You check your social media before you pee in ...</td>\n",
              "      <td>Positive</td>\n",
              "    </tr>\n",
              "    <tr>\n",
              "      <th>4</th>\n",
              "      <td>watch thesocialdilemma and see what s actually...</td>\n",
              "      <td>Negative</td>\n",
              "    </tr>\n",
              "  </tbody>\n",
              "</table>\n",
              "</div>\n",
              "      <button class=\"colab-df-convert\" onclick=\"convertToInteractive('df-086d2af1-b169-489c-8f44-077197de88c5')\"\n",
              "              title=\"Convert this dataframe to an interactive table.\"\n",
              "              style=\"display:none;\">\n",
              "        \n",
              "  <svg xmlns=\"http://www.w3.org/2000/svg\" height=\"24px\"viewBox=\"0 0 24 24\"\n",
              "       width=\"24px\">\n",
              "    <path d=\"M0 0h24v24H0V0z\" fill=\"none\"/>\n",
              "    <path d=\"M18.56 5.44l.94 2.06.94-2.06 2.06-.94-2.06-.94-.94-2.06-.94 2.06-2.06.94zm-11 1L8.5 8.5l.94-2.06 2.06-.94-2.06-.94L8.5 2.5l-.94 2.06-2.06.94zm10 10l.94 2.06.94-2.06 2.06-.94-2.06-.94-.94-2.06-.94 2.06-2.06.94z\"/><path d=\"M17.41 7.96l-1.37-1.37c-.4-.4-.92-.59-1.43-.59-.52 0-1.04.2-1.43.59L10.3 9.45l-7.72 7.72c-.78.78-.78 2.05 0 2.83L4 21.41c.39.39.9.59 1.41.59.51 0 1.02-.2 1.41-.59l7.78-7.78 2.81-2.81c.8-.78.8-2.07 0-2.86zM5.41 20L4 18.59l7.72-7.72 1.47 1.35L5.41 20z\"/>\n",
              "  </svg>\n",
              "      </button>\n",
              "      \n",
              "  <style>\n",
              "    .colab-df-container {\n",
              "      display:flex;\n",
              "      flex-wrap:wrap;\n",
              "      gap: 12px;\n",
              "    }\n",
              "\n",
              "    .colab-df-convert {\n",
              "      background-color: #E8F0FE;\n",
              "      border: none;\n",
              "      border-radius: 50%;\n",
              "      cursor: pointer;\n",
              "      display: none;\n",
              "      fill: #1967D2;\n",
              "      height: 32px;\n",
              "      padding: 0 0 0 0;\n",
              "      width: 32px;\n",
              "    }\n",
              "\n",
              "    .colab-df-convert:hover {\n",
              "      background-color: #E2EBFA;\n",
              "      box-shadow: 0px 1px 2px rgba(60, 64, 67, 0.3), 0px 1px 3px 1px rgba(60, 64, 67, 0.15);\n",
              "      fill: #174EA6;\n",
              "    }\n",
              "\n",
              "    [theme=dark] .colab-df-convert {\n",
              "      background-color: #3B4455;\n",
              "      fill: #D2E3FC;\n",
              "    }\n",
              "\n",
              "    [theme=dark] .colab-df-convert:hover {\n",
              "      background-color: #434B5C;\n",
              "      box-shadow: 0px 1px 3px 1px rgba(0, 0, 0, 0.15);\n",
              "      filter: drop-shadow(0px 1px 2px rgba(0, 0, 0, 0.3));\n",
              "      fill: #FFFFFF;\n",
              "    }\n",
              "  </style>\n",
              "\n",
              "      <script>\n",
              "        const buttonEl =\n",
              "          document.querySelector('#df-086d2af1-b169-489c-8f44-077197de88c5 button.colab-df-convert');\n",
              "        buttonEl.style.display =\n",
              "          google.colab.kernel.accessAllowed ? 'block' : 'none';\n",
              "\n",
              "        async function convertToInteractive(key) {\n",
              "          const element = document.querySelector('#df-086d2af1-b169-489c-8f44-077197de88c5');\n",
              "          const dataTable =\n",
              "            await google.colab.kernel.invokeFunction('convertToInteractive',\n",
              "                                                     [key], {});\n",
              "          if (!dataTable) return;\n",
              "\n",
              "          const docLinkHtml = 'Like what you see? Visit the ' +\n",
              "            '<a target=\"_blank\" href=https://colab.research.google.com/notebooks/data_table.ipynb>data table notebook</a>'\n",
              "            + ' to learn more about interactive tables.';\n",
              "          element.innerHTML = '';\n",
              "          dataTable['output_type'] = 'display_data';\n",
              "          await google.colab.output.renderOutput(dataTable, element);\n",
              "          const docLink = document.createElement('div');\n",
              "          docLink.innerHTML = docLinkHtml;\n",
              "          element.appendChild(docLink);\n",
              "        }\n",
              "      </script>\n",
              "    </div>\n",
              "  </div>\n",
              "  "
            ],
            "text/plain": [
              "                                          clean_text Sentiment\n",
              "0  TheSocialDilemma is an eye opener isn t it ple...   Neutral\n",
              "1  TheSocialDilemma If we don t agree on what is ...  Positive\n",
              "2  Watching TheSocialDilemma scary to see social ...  Negative\n",
              "3  You check your social media before you pee in ...  Positive\n",
              "4  watch thesocialdilemma and see what s actually...  Negative"
            ]
          },
          "metadata": {},
          "execution_count": 34
        }
      ]
    },
    {
      "cell_type": "code",
      "source": [
        "# Check for null values\n",
        "df_cs.isnull().sum()"
      ],
      "metadata": {
        "colab": {
          "base_uri": "https://localhost:8080/"
        },
        "id": "NKwd6U1IPop4",
        "outputId": "af9fa0e8-4f6b-486e-cfd8-1280a81d9a4a"
      },
      "execution_count": null,
      "outputs": [
        {
          "output_type": "execute_result",
          "data": {
            "text/plain": [
              "clean_text    8\n",
              "Sentiment     0\n",
              "dtype: int64"
            ]
          },
          "metadata": {},
          "execution_count": 37
        }
      ]
    },
    {
      "cell_type": "code",
      "source": [
        "# As there are null values we will drop them\n",
        "df_csn = df_cs.dropna()\n",
        "df_csn.isnull().sum()"
      ],
      "metadata": {
        "colab": {
          "base_uri": "https://localhost:8080/"
        },
        "id": "OBKMKxsGQYG1",
        "outputId": "8d66b26c-21a3-47ca-b036-8de4b839f950"
      },
      "execution_count": null,
      "outputs": [
        {
          "output_type": "execute_result",
          "data": {
            "text/plain": [
              "clean_text    0\n",
              "Sentiment     0\n",
              "dtype: int64"
            ]
          },
          "metadata": {},
          "execution_count": 42
        }
      ]
    },
    {
      "cell_type": "code",
      "source": [
        "# We wil create new column with Lables \n",
        "# Label encoding\n",
        "cats = {\"Negative\":0, \"Neutral\":1, \"Positive\":2}\n",
        "df_csn[\"Label\"] = df_csn[\"Sentiment\"].map(cats)\n",
        "print(df_csn.head())\n",
        "print(df_csn.shape)"
      ],
      "metadata": {
        "colab": {
          "base_uri": "https://localhost:8080/"
        },
        "id": "AK1jtigWQzMG",
        "outputId": "232c1fbf-64d0-4891-cfa6-2cedf51d5417"
      },
      "execution_count": null,
      "outputs": [
        {
          "output_type": "stream",
          "name": "stdout",
          "text": [
            "                                          clean_text Sentiment  Label\n",
            "0  TheSocialDilemma is an eye opener isn t it ple...   Neutral      1\n",
            "1  TheSocialDilemma If we don t agree on what is ...  Positive      2\n",
            "2  Watching TheSocialDilemma scary to see social ...  Negative      0\n",
            "3  You check your social media before you pee in ...  Positive      2\n",
            "4  watch thesocialdilemma and see what s actually...  Negative      0\n",
            "(16992, 3)\n"
          ]
        }
      ]
    },
    {
      "cell_type": "markdown",
      "source": [
        "We do not need to clean the tweets as they are already cleaned."
      ],
      "metadata": {
        "id": "XD5vuIA-RqyH"
      }
    },
    {
      "cell_type": "markdown",
      "source": [
        "### **Splitting in Train and Test Dataset:**"
      ],
      "metadata": {
        "id": "s8giVQ7JSj92"
      }
    },
    {
      "cell_type": "code",
      "source": [
        "# This is different from the other unseen Test Dataset. This is for purpose of evaluating our model.\n",
        "df_train = df_csn.iloc[:13000]\n",
        "df_test = df_csn.iloc[13000:]\n",
        "print(\"Shape of train df : \", df_train.shape)\n",
        "print(\"Shape of test df : \", df_test.shape)"
      ],
      "metadata": {
        "colab": {
          "base_uri": "https://localhost:8080/"
        },
        "id": "Ccb7x58YRlE2",
        "outputId": "6a327212-446a-4a59-d16b-9461d6dd7b0e"
      },
      "execution_count": null,
      "outputs": [
        {
          "output_type": "stream",
          "name": "stdout",
          "text": [
            "Shape of train df :  (13000, 3)\n",
            "Shape of test df :  (3992, 3)\n"
          ]
        }
      ]
    },
    {
      "cell_type": "code",
      "source": [
        "# Get distribution of  Sentiments in both dfs\n",
        "sns.countplot(df_train[\"Sentiment\"])"
      ],
      "metadata": {
        "colab": {
          "base_uri": "https://localhost:8080/",
          "height": 301
        },
        "id": "89a3mZgYUOpO",
        "outputId": "2bd0617c-4677-42dd-efa9-87519f6c5843"
      },
      "execution_count": null,
      "outputs": [
        {
          "output_type": "execute_result",
          "data": {
            "text/plain": [
              "<matplotlib.axes._subplots.AxesSubplot at 0x7f2ff64c5950>"
            ]
          },
          "metadata": {},
          "execution_count": 54
        },
        {
          "output_type": "display_data",
          "data": {
            "image/png": "[encoded data removed]",
            "text/plain": [
              "<Figure size 432x288 with 1 Axes>"
            ]
          },
          "metadata": {}
        }
      ]
    },
    {
      "cell_type": "code",
      "source": [
        "sns.countplot(df_test[\"Sentiment\"])"
      ],
      "metadata": {
        "colab": {
          "base_uri": "https://localhost:8080/",
          "height": 302
        },
        "id": "PirMKlXHUdUk",
        "outputId": "e1e5a79e-3cc1-4255-bfac-5a8a69b9d3cd"
      },
      "execution_count": null,
      "outputs": [
        {
          "output_type": "execute_result",
          "data": {
            "text/plain": [
              "<matplotlib.axes._subplots.AxesSubplot at 0x7f2fe05e5150>"
            ]
          },
          "metadata": {},
          "execution_count": 55
        },
        {
          "output_type": "display_data",
          "data": {
            "image/png": "[encoded data removed]",
            "text/plain": [
              "<Figure size 432x288 with 1 Axes>"
            ]
          },
          "metadata": {}
        }
      ]
    },
    {
      "cell_type": "markdown",
      "source": [
        "The distribution of different categories is similar between the two dataframes."
      ],
      "metadata": {
        "id": "tLbny70YUpKh"
      }
    },
    {
      "cell_type": "markdown",
      "source": [
        "### Convert training dataset into tensorflow dataset format"
      ],
      "metadata": {
        "id": "5c8aaEzyU1JQ"
      }
    },
    {
      "cell_type": "code",
      "source": [
        "train_dataset = (\n",
        "    tf.data.Dataset.from_tensor_slices(\n",
        "        (\n",
        "            tf.cast(df_train[\"clean_text\"].values, tf.string),\n",
        "            tf.cast(df_train[\"Label\"].values, tf.int32)\n",
        "        )\n",
        "    )\n",
        ")"
      ],
      "metadata": {
        "id": "xqHSBo0cUgxs"
      },
      "execution_count": null,
      "outputs": []
    },
    {
      "cell_type": "code",
      "source": [
        "train_dataset"
      ],
      "metadata": {
        "colab": {
          "base_uri": "https://localhost:8080/"
        },
        "id": "IdHk1fyQVnS-",
        "outputId": "b2f0f8c0-7e41-455b-ec3d-95304ed951fb"
      },
      "execution_count": null,
      "outputs": [
        {
          "output_type": "execute_result",
          "data": {
            "text/plain": [
              "<TensorSliceDataset shapes: ((), ()), types: (tf.string, tf.int32)>"
            ]
          },
          "metadata": {},
          "execution_count": 57
        }
      ]
    },
    {
      "cell_type": "code",
      "source": [
        "# Print few samples (first 3)\n",
        "for sample, label in train_dataset.take(3):\n",
        "    print('**'*50)\n",
        "    print(\"Sample : \", sample.numpy())\n",
        "    print()\n",
        "    print(\"Label : \", label.numpy())\n",
        "    print('**'*50)"
      ],
      "metadata": {
        "colab": {
          "base_uri": "https://localhost:8080/"
        },
        "id": "d1RUAUWFV4gu",
        "outputId": "d3557b57-e323-4524-a131-32b2d82054f2"
      },
      "execution_count": null,
      "outputs": [
        {
          "output_type": "stream",
          "name": "stdout",
          "text": [
            "****************************************************************************************************\n",
            "Sample :  b'TheSocialDilemma is an eye opener isn t it please ignore the irony of me tweeting about it'\n",
            "\n",
            "Label :  1\n",
            "****************************************************************************************************\n",
            "****************************************************************************************************\n",
            "Sample :  b'TheSocialDilemma If we don t agree on what is true or that there is such a thing as truth we re toast This is'\n",
            "\n",
            "Label :  2\n",
            "****************************************************************************************************\n",
            "****************************************************************************************************\n",
            "Sample :  b'Watching TheSocialDilemma scary to see social media is fucking up the mental health of Gen X'\n",
            "\n",
            "Label :  0\n",
            "****************************************************************************************************\n"
          ]
        }
      ]
    },
    {
      "cell_type": "markdown",
      "source": [
        "### Create Batches of the Dataset:"
      ],
      "metadata": {
        "id": "fZLIK1TGXRGZ"
      }
    },
    {
      "cell_type": "code",
      "source": [
        "# Initialise'\n",
        "Buffer_size = 3000\n",
        "Batch_size = 64"
      ],
      "metadata": {
        "id": "hoBchlSVWkMH"
      },
      "execution_count": null,
      "outputs": []
    },
    {
      "cell_type": "code",
      "source": [
        "# Create batches\n",
        "train_dataset = train_dataset.shuffle(Buffer_size).batch(Batch_size).prefetch(tf.data.AUTOTUNE)  # Every batch 64 samples"
      ],
      "metadata": {
        "id": "wSrh3l-BXg4F"
      },
      "execution_count": null,
      "outputs": []
    },
    {
      "cell_type": "code",
      "source": [
        "# Print a batch\n",
        "for sample, label in train_dataset.take(1):\n",
        "    print('**'*50)\n",
        "    print(\"Sample : \", sample.numpy())\n",
        "    print()\n",
        "    print(\"Label : \", label.numpy())\n",
        "    print()\n",
        "    print(\"Len :\", len(label.numpy()))\n",
        "    print('**'*50)"
      ],
      "metadata": {
        "colab": {
          "base_uri": "https://localhost:8080/"
        },
        "id": "v-BNRFrEX5nl",
        "outputId": "bead6212-dd04-4875-9fab-8fe6188b6abe"
      },
      "execution_count": null,
      "outputs": [
        {
          "output_type": "stream",
          "name": "stdout",
          "text": [
            "****************************************************************************************************\n",
            "Sample :  [b'So there are people going in for surgery to look like Snapchat filters TheSocialDilemma'\n",
            " b'Fan of the TheSocialDilemma on Netflix This podcast is for you debating Just because we can should we wi'\n",
            " b'I m watching TheSocialDilemma on Netflix Basically the machines are slowly destroying humanity via algorithms Fr'\n",
            " b'Watch TheSocialDilemma Makes me want to delete every single one of these social accounts'\n",
            " b'Drop everything you are watching doing and watch TheSocialDilemma Speaks what many of us fail to explain in tot'\n",
            " b'Hey I watched that show you recommended the social dilemma Great eye opening documentary I real'\n",
            " b'bitc the ENTIRE concept of social media is people s minds and attention being sold for advertising time how much'\n",
            " b'Watching TheSocialDilemma scary shit but interesting'\n",
            " b'Must see TheSocialDilemma Must be aware'\n",
            " b'Just have watched TheSocialDilemma and is really a good documentary about how social media is manipulating us and'\n",
            " b'If you are looking for something profound consider it during night time AmongUs QBCONNECT coronavirus DeFi'\n",
            " b'TheSocialDilemma documentary I will start watching now'\n",
            " b'I ve not had an active Facebook page in going on a year And TheSocialDilemma makes me very happy about that'\n",
            " b'I love this visual of the family who isn t eating dinner with their cell phones because like they skipped the part'\n",
            " b'Data rights are human rights TheSocialDilemma'\n",
            " b'The purpose of humane technology isn t to stop you from being the product it s to make sure that you re a ha'\n",
            " b'I gave my kids an option today of help me clean the basement or watch TheSocialDilemma on so after they'\n",
            " b'Facebook algorithms have become number one for inciting and spreading hate racism and conspiracy theories at an al'\n",
            " b'I watched thesocialdilemma and I 1000 agree So with that being said see you in real life'\n",
            " b'The second this guy got involved it became a conspiracy theory and lost all credibility TheSocialDilemma'\n",
            " b'People have no idea what s true and now it s a matter of life and death The much needed wake up call Netflix TheSocialDilemma'\n",
            " b'Passive social media use is bad for us right TheSocialDilemma Well it depends on content In a new Jour'\n",
            " b'The Social Dilemma Documentary Like a Magician YouTube Facebook Twitter Google Controls Your Newsfeed Adverti'\n",
            " b'OurPact has been keeping kids safe online with over 1 2 million families OurPact for scr'\n",
            " b'Well socialmedia by defination is disinformation Don t even believe this tweet Watch'\n",
            " b'Just watched TheSocialDilemma on Netflix not gonna lie I m terrified The irony of posting about it on social m'\n",
            " b'Tonight I am forcing my teens to watch TheSocialDilemma on If you have teens you may want to consider d'\n",
            " b'TheSocialDilemma whew'\n",
            " b'If you guys haven t seen TheSocialDilemma go now'\n",
            " b'Watch TheSocialDilemma'\n",
            " b'Great I watched TheSocialDilemma on and now I can t scroll my feeds without seeing Pete from MadMen p'\n",
            " b'Digital Machiavellianism in the 2020s TheSocialDilemma Review Unplug and Run'\n",
            " b'Watches TheSocialDilemma and immediately turns off all app notifications And then posts about it on social media'\n",
            " b'BhawanaSomaaya Recommenda documentary TheSocialDilemma on'\n",
            " b'We agree OurPact has been keeping kids safe online with'\n",
            " b'i watched TheSocialDilemma on last night it is a very jarring documentary full of hard to swallow truths'\n",
            " b'Another thought that engulfed me that how Americans have successfully combined psychology with technology to mani'\n",
            " b'Everyone should watch TheSocialDilemma'\n",
            " b'We re training and conditioning a whole new generation of people that when we are uncomfortable or lonely or uncert'\n",
            " b'Just finished reading Facebook The Inside Story by I really think it s full of useful information'\n",
            " b'If you are not paying for the product you are the product TheSocialDilemma'\n",
            " b'As humans we ve almost lost control over these systems Because they re are controlling the information that we s'\n",
            " b'And here I am tweeting and flicking through the TheSocialDilemma'\n",
            " b'It s not to say these things work But it does reduce my screen time I am not spending all that time checking ever'\n",
            " b'Watching TheSocialDilemma and realizing why my TikTok for you page is what it is'\n",
            " b'You need to watch TheSocialDilemma on Netflix'\n",
            " b'Seriously need to watch TheSocialDilemma'\n",
            " b'Not surprised if this TheSocialDilemma gets removed frm Netflix anytime soon by those giant SM vultures'\n",
            " b'Just watched TheSocialDilemma wow Some powerful stuff There s a reason why I ve removed a lot of specific peo'\n",
            " b'How can you wake up from the matrix when you don t even know you re in it TheSocialDilemma'\n",
            " b'That moment you log back onto Twitter right after watching TheSocialDilemma'\n",
            " b'Kinda feeling like TheSocialDilemma is fear mongering technodeterminist propaganda'\n",
            " b'Today s ironic tweet Watch The Social Dilemma on Netflix Scariest thing I ve seen in a while TheSocialDilemma'\n",
            " b'Lol TheSocialDilemma is unwatchably bad Way too forced It wants to be Black Mirror'\n",
            " b'The Social Dilemma a must see documentary about how our lives are being controlled and manipulated by one single'\n",
            " b'TheSocialDilemma impact Facebook vows to restrict users if US election descends into chaos via'\n",
            " b'Just watched TheSocialDilemma on and am about to delete all my social media profiles Except Twitter'\n",
            " b'Watched TheSocialDilemma earlier today and I ve been blown Not that that I didn t know how AI and algorithms wo'\n",
            " b'I ve known all this time how infectious and invasive Facebook can be It took watching TheSocialDilemma to finally'\n",
            " b'I just took a long walk and deleted most of the apps off my phone What action will you take today to break your'\n",
            " b'The Social Dilemma is probably one of the most important documentaries out there right now You have to understan'\n",
            " b'Serious Question just watched TheSocialDilemma Who would you recommend your followers follow someon'\n",
            " b'Honestly this whole Sancho thing and the way BVB and United fans are convinced of two completely different outcome'\n",
            " b'Awareness is critical in breaking the addiction TheSocialDilemma']\n",
            "\n",
            "Label :  [1 1 0 0 1 2 2 1 2 2 2 1 2 2 1 2 2 0 2 1 2 0 2 2 1 2 1 1 1 1 2 1 2 1 2 2 2\n",
            " 1 0 2 1 1 1 1 1 1 0 0 2 1 2 0 2 0 2 1 2 1 1 2 2 0 2 1]\n",
            "\n",
            "Len : 64\n",
            "****************************************************************************************************\n"
          ]
        }
      ]
    },
    {
      "cell_type": "markdown",
      "source": [
        "## Create Training and Validation Splits:\n",
        "\n",
        "This will be used for training"
      ],
      "metadata": {
        "id": "K2rrpMWqYebs"
      }
    },
    {
      "cell_type": "code",
      "source": [
        "len(train_dataset) # Total batches"
      ],
      "metadata": {
        "colab": {
          "base_uri": "https://localhost:8080/"
        },
        "id": "6UIITYzDZKFJ",
        "outputId": "49fa811e-1180-4033-c0d5-4c3d85e2cf2e"
      },
      "execution_count": null,
      "outputs": [
        {
          "output_type": "execute_result",
          "data": {
            "text/plain": [
              "204"
            ]
          },
          "metadata": {},
          "execution_count": 65
        }
      ]
    },
    {
      "cell_type": "code",
      "source": [
        "# Create validation dataset\n",
        "val_dataset = train_dataset.take(40)\n",
        "train_dataset = train_dataset.skip(40)\n",
        "\n",
        "# The split is 0.2"
      ],
      "metadata": {
        "id": "DCSo8AJNYFMc"
      },
      "execution_count": null,
      "outputs": []
    },
    {
      "cell_type": "markdown",
      "source": [
        "### Create Text Encoder:"
      ],
      "metadata": {
        "id": "PEBxS3a6ZpNZ"
      }
    },
    {
      "cell_type": "markdown",
      "source": [
        "The machine cannot understand words and thus to feed them to model we need to encode them. Textvectorization layer can be used for this,."
      ],
      "metadata": {
        "id": "mDeLpoDHZuF5"
      }
    },
    {
      "cell_type": "code",
      "source": [
        "# Create the  encode layer\n",
        "\n",
        "VOCAB_SIZE = 2000 #length of bag of words\n",
        "encoder = tf.keras.layers.experimental.preprocessing.TextVectorization(max_tokens = VOCAB_SIZE)\n",
        "\n",
        "# Apply it on train dataset\n",
        "encoder.adapt(train_dataset.map(lambda text, label : text))"
      ],
      "metadata": {
        "id": "0qAVZGGEZjNE"
      },
      "execution_count": null,
      "outputs": []
    },
    {
      "cell_type": "code",
      "source": [
        "# Check the vocabulary\n",
        "\n",
        "vocab = np.array(encoder.get_vocabulary())\n",
        "\n",
        "# Print Top 30 words\n",
        "vocab[0:30]"
      ],
      "metadata": {
        "colab": {
          "base_uri": "https://localhost:8080/"
        },
        "id": "ZSPBx2iKayg_",
        "outputId": "9deda2a4-db24-4a7b-9508-c5b679fb50bf"
      },
      "execution_count": null,
      "outputs": [
        {
          "output_type": "execute_result",
          "data": {
            "text/plain": [
              "array(['', '[UNK]', 'thesocialdilemma', 'the', 'i', 'to', 'on', 'and',\n",
              "       'you', 'a', 'is', 'it', 'social', 'watch', 'of', 'netflix', 's',\n",
              "       'this', 'in', 'for', 'that', 'media', 'are', 'watching', 'we', 't',\n",
              "       'if', 'watched', 'about', 'my'], dtype='<U22')"
            ]
          },
          "metadata": {},
          "execution_count": 72
        }
      ]
    },
    {
      "cell_type": "code",
      "source": [
        "len(vocab)"
      ],
      "metadata": {
        "colab": {
          "base_uri": "https://localhost:8080/"
        },
        "id": "Pjg9LBL9bDLF",
        "outputId": "4910b45c-5efd-4499-8d77-900179095b1d"
      },
      "execution_count": null,
      "outputs": [
        {
          "output_type": "execute_result",
          "data": {
            "text/plain": [
              "2000"
            ]
          },
          "metadata": {},
          "execution_count": 73
        }
      ]
    },
    {
      "cell_type": "markdown",
      "source": [
        "# **RNN Model**"
      ],
      "metadata": {
        "id": "xSm-SV0qbjw7"
      }
    },
    {
      "cell_type": "markdown",
      "source": [
        "## RNN Model Architecture:"
      ],
      "metadata": {
        "id": "DvZxXABjbW0L"
      }
    },
    {
      "cell_type": "code",
      "source": [
        "# RNN model\n",
        "model = Sequential([\n",
        "                    encoder,\n",
        "                    Embedding(input_dim = len(encoder.get_vocabulary()), output_dim = 64, mask_zero = True),\n",
        "                    SimpleRNN(64),\n",
        "                    Dense(64, activation=\"relu\"),\n",
        "                    Dense(3, activation=\"softmax\")  # For 3 classes and softmax all classes will have total 1 \n",
        "])"
      ],
      "metadata": {
        "id": "0yDoBKcRbOId"
      },
      "execution_count": null,
      "outputs": []
    },
    {
      "cell_type": "code",
      "source": [
        "# Checking model with sample without training\n",
        "sample_text = (\"the documetary is eye-opening, one should not think much, just learn\")\n",
        "preds_check = model.predict(np.array([sample_text]))\n",
        "print(preds_check)"
      ],
      "metadata": {
        "colab": {
          "base_uri": "https://localhost:8080/"
        },
        "id": "Ql6Ag7s5cihW",
        "outputId": "cee7f4c8-239e-4131-8173-dd7a24c55cef"
      },
      "execution_count": null,
      "outputs": [
        {
          "output_type": "stream",
          "name": "stdout",
          "text": [
            "[[0.35326007 0.3143142  0.33242577]]\n"
          ]
        }
      ]
    },
    {
      "cell_type": "markdown",
      "source": [
        "## Compile the model:"
      ],
      "metadata": {
        "id": "qyvGXDEzdli9"
      }
    },
    {
      "cell_type": "code",
      "source": [
        "model.compile(loss='sparse_categorical_crossentropy',\n",
        "              optimizer = Adam(1e-4),\n",
        "              metrics=['accuracy'])"
      ],
      "metadata": {
        "id": "I8mGlq8odQp4"
      },
      "execution_count": null,
      "outputs": []
    },
    {
      "cell_type": "markdown",
      "source": [
        "Train the model :"
      ],
      "metadata": {
        "id": "4iUxxzfTeXLV"
      }
    },
    {
      "cell_type": "code",
      "source": [
        "EPOCHS = 15\n",
        "\n",
        "h = model.fit(train_dataset, epochs=EPOCHS, validation_data=val_dataset)"
      ],
      "metadata": {
        "colab": {
          "base_uri": "https://localhost:8080/"
        },
        "id": "-JlBrEV0eTof",
        "outputId": "0b020ccd-2468-4fb2-ba94-06277d072735"
      },
      "execution_count": null,
      "outputs": [
        {
          "output_type": "stream",
          "name": "stdout",
          "text": [
            "Epoch 1/15\n",
            "164/164 [==============================] - 15s 80ms/step - loss: 1.0832 - accuracy: 0.3746 - val_loss: 1.0025 - val_accuracy: 0.5582\n",
            "Epoch 2/15\n",
            "164/164 [==============================] - 14s 84ms/step - loss: 0.9696 - accuracy: 0.5901 - val_loss: 0.8539 - val_accuracy: 0.6562\n",
            "Epoch 3/15\n",
            "164/164 [==============================] - 14s 86ms/step - loss: 0.8071 - accuracy: 0.6806 - val_loss: 0.7156 - val_accuracy: 0.7156\n",
            "Epoch 4/15\n",
            "164/164 [==============================] - 13s 79ms/step - loss: 0.6848 - accuracy: 0.7320 - val_loss: 0.6234 - val_accuracy: 0.7586\n",
            "Epoch 5/15\n",
            "164/164 [==============================] - 14s 83ms/step - loss: 0.5656 - accuracy: 0.7874 - val_loss: 0.5449 - val_accuracy: 0.7801\n",
            "Epoch 6/15\n",
            "164/164 [==============================] - 14s 82ms/step - loss: 0.5004 - accuracy: 0.8124 - val_loss: 0.4645 - val_accuracy: 0.8262\n",
            "Epoch 7/15\n",
            "164/164 [==============================] - 14s 87ms/step - loss: 0.4012 - accuracy: 0.8628 - val_loss: 0.4200 - val_accuracy: 0.8543\n",
            "Epoch 8/15\n",
            "164/164 [==============================] - 13s 81ms/step - loss: 0.3489 - accuracy: 0.8798 - val_loss: 0.3510 - val_accuracy: 0.8820\n",
            "Epoch 9/15\n",
            "164/164 [==============================] - 14s 85ms/step - loss: 0.3170 - accuracy: 0.8952 - val_loss: 0.3230 - val_accuracy: 0.8934\n",
            "Epoch 10/15\n",
            "164/164 [==============================] - 15s 89ms/step - loss: 0.2786 - accuracy: 0.9116 - val_loss: 0.3020 - val_accuracy: 0.9027\n",
            "Epoch 11/15\n",
            "164/164 [==============================] - 14s 86ms/step - loss: 0.2562 - accuracy: 0.9209 - val_loss: 0.2886 - val_accuracy: 0.9055\n",
            "Epoch 12/15\n",
            "164/164 [==============================] - 14s 84ms/step - loss: 0.2281 - accuracy: 0.9327 - val_loss: 0.2635 - val_accuracy: 0.9141\n",
            "Epoch 13/15\n",
            "164/164 [==============================] - 13s 81ms/step - loss: 0.2046 - accuracy: 0.9389 - val_loss: 0.2606 - val_accuracy: 0.9180\n",
            "Epoch 14/15\n",
            "164/164 [==============================] - 13s 82ms/step - loss: 0.1892 - accuracy: 0.9456 - val_loss: 0.2384 - val_accuracy: 0.9250\n",
            "Epoch 15/15\n",
            "164/164 [==============================] - 14s 85ms/step - loss: 0.1885 - accuracy: 0.9443 - val_loss: 0.2201 - val_accuracy: 0.9344\n"
          ]
        }
      ]
    },
    {
      "cell_type": "markdown",
      "source": [
        "Till now, we can see we have good accuracies and losses for training and validation, our model seems good to go. We will proceed further."
      ],
      "metadata": {
        "id": "eiwv_jHUfZsR"
      }
    },
    {
      "cell_type": "code",
      "source": [
        "model.summary()"
      ],
      "metadata": {
        "colab": {
          "base_uri": "https://localhost:8080/"
        },
        "id": "wCRGqtHp6G_S",
        "outputId": "c83a1ce5-12f2-404c-ba3d-ad6f438b4e42"
      },
      "execution_count": null,
      "outputs": [
        {
          "output_type": "stream",
          "name": "stdout",
          "text": [
            "Model: \"sequential_1\"\n",
            "_________________________________________________________________\n",
            "Layer (type)                 Output Shape              Param #   \n",
            "=================================================================\n",
            "text_vectorization_1 (TextVe (None, None)              0         \n",
            "_________________________________________________________________\n",
            "embedding_1 (Embedding)      (None, None, 64)          128000    \n",
            "_________________________________________________________________\n",
            "simple_rnn_1 (SimpleRNN)     (None, 64)                8256      \n",
            "_________________________________________________________________\n",
            "dense_2 (Dense)              (None, 64)                4160      \n",
            "_________________________________________________________________\n",
            "dense_3 (Dense)              (None, 3)                 195       \n",
            "=================================================================\n",
            "Total params: 140,611\n",
            "Trainable params: 140,611\n",
            "Non-trainable params: 0\n",
            "_________________________________________________________________\n"
          ]
        }
      ]
    },
    {
      "cell_type": "code",
      "source": [
        "# Save the model\n",
        "print(\"[WIP] Saving Model...\")\n",
        "model.save('Model/RNN_15epochs.tf', save_format=\"tf\")\n",
        "print(\"Model Saved Successfully\")"
      ],
      "metadata": {
        "colab": {
          "base_uri": "https://localhost:8080/"
        },
        "id": "n6Uj5Adv6KyF",
        "outputId": "e4023b31-afd9-4471-bf0e-665274c66f2c"
      },
      "execution_count": null,
      "outputs": [
        {
          "output_type": "stream",
          "name": "stdout",
          "text": [
            "[WIP] Saving Model...\n",
            "INFO:tensorflow:Assets written to: Model/RNN_15epochs.tf/assets\n",
            "Model Saved Successfully\n"
          ]
        }
      ]
    },
    {
      "cell_type": "markdown",
      "source": [
        "## Model Evaluation:"
      ],
      "metadata": {
        "id": "3J5ieDDNg3r-"
      }
    },
    {
      "cell_type": "code",
      "source": [
        "# Test Dataset with labels\n",
        "df_test.head()"
      ],
      "metadata": {
        "colab": {
          "base_uri": "https://localhost:8080/",
          "height": 205
        },
        "id": "wJZW4nvggktU",
        "outputId": "973abc83-a024-4cb5-a880-e9d45099f83a"
      },
      "execution_count": null,
      "outputs": [
        {
          "output_type": "execute_result",
          "data": {
            "text/html": [
              "\n",
              "  <div id=\"df-c0707110-b11b-43db-8ca3-fdb8b743de88\">\n",
              "    <div class=\"colab-df-container\">\n",
              "      <div>\n",
              "<style scoped>\n",
              "    .dataframe tbody tr th:only-of-type {\n",
              "        vertical-align: middle;\n",
              "    }\n",
              "\n",
              "    .dataframe tbody tr th {\n",
              "        vertical-align: top;\n",
              "    }\n",
              "\n",
              "    .dataframe thead th {\n",
              "        text-align: right;\n",
              "    }\n",
              "</style>\n",
              "<table border=\"1\" class=\"dataframe\">\n",
              "  <thead>\n",
              "    <tr style=\"text-align: right;\">\n",
              "      <th></th>\n",
              "      <th>clean_text</th>\n",
              "      <th>Sentiment</th>\n",
              "      <th>Label</th>\n",
              "    </tr>\n",
              "  </thead>\n",
              "  <tbody>\n",
              "    <tr>\n",
              "      <th>13006</th>\n",
              "      <td>Has anyone watched TheSocialDilemma on Netflix...</td>\n",
              "      <td>Neutral</td>\n",
              "      <td>1</td>\n",
              "    </tr>\n",
              "    <tr>\n",
              "      <th>13007</th>\n",
              "      <td>Social media platforms like Twitter Facebook I...</td>\n",
              "      <td>Positive</td>\n",
              "      <td>2</td>\n",
              "    </tr>\n",
              "    <tr>\n",
              "      <th>13008</th>\n",
              "      <td>That s it that s the tweet TheSocialDilemma</td>\n",
              "      <td>Neutral</td>\n",
              "      <td>1</td>\n",
              "    </tr>\n",
              "    <tr>\n",
              "      <th>13009</th>\n",
              "      <td>Powerful words by Justin Rosenstein former pro...</td>\n",
              "      <td>Positive</td>\n",
              "      <td>2</td>\n",
              "    </tr>\n",
              "    <tr>\n",
              "      <th>13010</th>\n",
              "      <td>Try dopamine fasts Do Watch this documentary T...</td>\n",
              "      <td>Neutral</td>\n",
              "      <td>1</td>\n",
              "    </tr>\n",
              "  </tbody>\n",
              "</table>\n",
              "</div>\n",
              "      <button class=\"colab-df-convert\" onclick=\"convertToInteractive('df-c0707110-b11b-43db-8ca3-fdb8b743de88')\"\n",
              "              title=\"Convert this dataframe to an interactive table.\"\n",
              "              style=\"display:none;\">\n",
              "        \n",
              "  <svg xmlns=\"http://www.w3.org/2000/svg\" height=\"24px\"viewBox=\"0 0 24 24\"\n",
              "       width=\"24px\">\n",
              "    <path d=\"M0 0h24v24H0V0z\" fill=\"none\"/>\n",
              "    <path d=\"M18.56 5.44l.94 2.06.94-2.06 2.06-.94-2.06-.94-.94-2.06-.94 2.06-2.06.94zm-11 1L8.5 8.5l.94-2.06 2.06-.94-2.06-.94L8.5 2.5l-.94 2.06-2.06.94zm10 10l.94 2.06.94-2.06 2.06-.94-2.06-.94-.94-2.06-.94 2.06-2.06.94z\"/><path d=\"M17.41 7.96l-1.37-1.37c-.4-.4-.92-.59-1.43-.59-.52 0-1.04.2-1.43.59L10.3 9.45l-7.72 7.72c-.78.78-.78 2.05 0 2.83L4 21.41c.39.39.9.59 1.41.59.51 0 1.02-.2 1.41-.59l7.78-7.78 2.81-2.81c.8-.78.8-2.07 0-2.86zM5.41 20L4 18.59l7.72-7.72 1.47 1.35L5.41 20z\"/>\n",
              "  </svg>\n",
              "      </button>\n",
              "      \n",
              "  <style>\n",
              "    .colab-df-container {\n",
              "      display:flex;\n",
              "      flex-wrap:wrap;\n",
              "      gap: 12px;\n",
              "    }\n",
              "\n",
              "    .colab-df-convert {\n",
              "      background-color: #E8F0FE;\n",
              "      border: none;\n",
              "      border-radius: 50%;\n",
              "      cursor: pointer;\n",
              "      display: none;\n",
              "      fill: #1967D2;\n",
              "      height: 32px;\n",
              "      padding: 0 0 0 0;\n",
              "      width: 32px;\n",
              "    }\n",
              "\n",
              "    .colab-df-convert:hover {\n",
              "      background-color: #E2EBFA;\n",
              "      box-shadow: 0px 1px 2px rgba(60, 64, 67, 0.3), 0px 1px 3px 1px rgba(60, 64, 67, 0.15);\n",
              "      fill: #174EA6;\n",
              "    }\n",
              "\n",
              "    [theme=dark] .colab-df-convert {\n",
              "      background-color: #3B4455;\n",
              "      fill: #D2E3FC;\n",
              "    }\n",
              "\n",
              "    [theme=dark] .colab-df-convert:hover {\n",
              "      background-color: #434B5C;\n",
              "      box-shadow: 0px 1px 3px 1px rgba(0, 0, 0, 0.15);\n",
              "      filter: drop-shadow(0px 1px 2px rgba(0, 0, 0, 0.3));\n",
              "      fill: #FFFFFF;\n",
              "    }\n",
              "  </style>\n",
              "\n",
              "      <script>\n",
              "        const buttonEl =\n",
              "          document.querySelector('#df-c0707110-b11b-43db-8ca3-fdb8b743de88 button.colab-df-convert');\n",
              "        buttonEl.style.display =\n",
              "          google.colab.kernel.accessAllowed ? 'block' : 'none';\n",
              "\n",
              "        async function convertToInteractive(key) {\n",
              "          const element = document.querySelector('#df-c0707110-b11b-43db-8ca3-fdb8b743de88');\n",
              "          const dataTable =\n",
              "            await google.colab.kernel.invokeFunction('convertToInteractive',\n",
              "                                                     [key], {});\n",
              "          if (!dataTable) return;\n",
              "\n",
              "          const docLinkHtml = 'Like what you see? Visit the ' +\n",
              "            '<a target=\"_blank\" href=https://colab.research.google.com/notebooks/data_table.ipynb>data table notebook</a>'\n",
              "            + ' to learn more about interactive tables.';\n",
              "          element.innerHTML = '';\n",
              "          dataTable['output_type'] = 'display_data';\n",
              "          await google.colab.output.renderOutput(dataTable, element);\n",
              "          const docLink = document.createElement('div');\n",
              "          docLink.innerHTML = docLinkHtml;\n",
              "          element.appendChild(docLink);\n",
              "        }\n",
              "      </script>\n",
              "    </div>\n",
              "  </div>\n",
              "  "
            ],
            "text/plain": [
              "                                              clean_text Sentiment  Label\n",
              "13006  Has anyone watched TheSocialDilemma on Netflix...   Neutral      1\n",
              "13007  Social media platforms like Twitter Facebook I...  Positive      2\n",
              "13008        That s it that s the tweet TheSocialDilemma   Neutral      1\n",
              "13009  Powerful words by Justin Rosenstein former pro...  Positive      2\n",
              "13010  Try dopamine fasts Do Watch this documentary T...   Neutral      1"
            ]
          },
          "metadata": {},
          "execution_count": 82
        }
      ]
    },
    {
      "cell_type": "markdown",
      "source": [
        "Tweets are already cleaned so we don't have to do text cleaning."
      ],
      "metadata": {
        "id": "vxEhEFpthgcb"
      }
    },
    {
      "cell_type": "code",
      "source": [
        "# We just require columns clean_text and Label\n",
        "df_test = df_test[[\"clean_text\", \"Label\"]].reset_index(drop=True)\n",
        "print(df_test.head())\n",
        "print(df_test.shape)"
      ],
      "metadata": {
        "colab": {
          "base_uri": "https://localhost:8080/"
        },
        "id": "Z_E6AsQNfKkB",
        "outputId": "20e40dfb-07a2-4597-8b81-c982b0b373f7"
      },
      "execution_count": null,
      "outputs": [
        {
          "output_type": "stream",
          "name": "stdout",
          "text": [
            "                                          clean_text  Label\n",
            "0  Has anyone watched TheSocialDilemma on Netflix...      1\n",
            "1  Social media platforms like Twitter Facebook I...      2\n",
            "2        That s it that s the tweet TheSocialDilemma      1\n",
            "3  Powerful words by Justin Rosenstein former pro...      2\n",
            "4  Try dopamine fasts Do Watch this documentary T...      1\n",
            "(3992, 2)\n"
          ]
        }
      ]
    },
    {
      "cell_type": "code",
      "source": [
        "# Convert into tensorflow dataset format as before\n",
        "test_dataset = (\n",
        "    tf.data.Dataset.from_tensor_slices(\n",
        "        (\n",
        "            tf.cast(df_test[\"clean_text\"].values, tf.string),\n",
        "            tf.cast(df_test[\"Label\"].values, tf.int32)\n",
        "        )\n",
        "    )\n",
        ")\n",
        "\n",
        "# Create batches in test dataset with same Batch_size\n",
        "test_dataset = test_dataset.batch(Batch_size).prefetch(tf.data.AUTOTUNE)"
      ],
      "metadata": {
        "id": "Z8DopUfqh_qW"
      },
      "execution_count": null,
      "outputs": []
    },
    {
      "cell_type": "code",
      "source": [
        "# Print a sample batch\n",
        "# Print a batch\n",
        "for sample, label in test_dataset.take(1):\n",
        "    print('**'*50)\n",
        "    print(\"Sample : \", sample.numpy())\n",
        "    print()\n",
        "    print(\"Label : \", label.numpy())\n",
        "    print()\n",
        "    print(\"Len :\", len(label.numpy()))\n",
        "    print('**'*50)"
      ],
      "metadata": {
        "colab": {
          "base_uri": "https://localhost:8080/"
        },
        "id": "9nlT2EJajujn",
        "outputId": "ede57da3-ea17-4602-b68c-6bc6860bbcbb"
      },
      "execution_count": null,
      "outputs": [
        {
          "output_type": "stream",
          "name": "stdout",
          "text": [
            "****************************************************************************************************\n",
            "Sample :  [b'Has anyone watched TheSocialDilemma on Netflix I recommend it'\n",
            " b'Social media platforms like Twitter Facebook IG SC and many more will never be the same for me after watching'\n",
            " b'That s it that s the tweet TheSocialDilemma'\n",
            " b'Powerful words by Justin Rosenstein former product manager at Google drawing parallels between big corporates resp'\n",
            " b'Try dopamine fasts Do Watch this documentary TheSocialDilemma'\n",
            " b'I wrote about the Netflix docudrama TheSocialDilemma what the film gets wrong about social media and what media t'\n",
            " b'It s definitely a mandate mustwatch TheSocialDilemma Netflix'\n",
            " b'TheSocialDilemma on Netflix everyone needs to watch this'\n",
            " b'AKRecommendations DocumentryFilm TheSocialDilemma Netflix Watch Now amp Learn Something New'\n",
            " b'Don t Believe everything you hear Put down ur phone at times and enjoy the moment thesocialdilemma'\n",
            " b'TheSocialDilemma by Netflix is a must watch documantary It shows up how these social media prey on you'\n",
            " b'It was painful to watch TheSocialDilemma Back in 2011 having domain expertise on digital natives our'\n",
            " b'TheSocialDilemma is really freaking eye opening it s scary'\n",
            " b'Checkmate on Humanity TheSocialDilemma with some mind bobbling facts that actually puts facts on table about what we may be exposed too'\n",
            " b'Digital Sociologist discusses how tech shapes behavior disrupts social norms amp how it ll rewire society'\n",
            " b'TheSocialDilemma was a really fun documentary Definitely worth doing something toward my privacy I guess I m rea'\n",
            " b'Peeping TheSocialDilemma'\n",
            " b'Watched the Netflix doc TheSocialDilemma All social media is driving the divisions in the world Scary scary stuf'\n",
            " b'Tech experts sound the alarm on the dangerous human impact of social networking TheSocialDilemma'\n",
            " b'The good folks have just released their latest film TheSocialDilemma Now on Netflix Can t wait to'\n",
            " b'Tweeting about TheSocialDilemma'\n",
            " b'Okay everyone needs to watch TheSocialDilemma right now I m guessing this tweet won t go far since it s bad for a'\n",
            " b'Check out our take on the Netflix show The Social Dilemma Read the article to find out TheSocialDilemma'\n",
            " b'I don t like watching this because in my head I feel like I don t have a problem but going further in this docum'\n",
            " b'Interested in watching true horror story Watch The Social Dilemma in Netflix TheSocialDilemma Netflix'\n",
            " b'The Data Detox Kit at the website is so useful Feels so good to detox I don t think I ve felt thi'\n",
            " b'There are only two industries that call its customers users illegal drugs and software TheSocialDilemma Netflix'\n",
            " b'Everytime you see your phone and look at it and you know that if you reach over it might just have something for'\n",
            " b'Tuned into TheSocialDilemma'\n",
            " b'If you re not paying for the product you are the product TheSocialDilemma SurveillanceCapitalism'\n",
            " b'The social media confessions bingo TheSocialDilemma'\n",
            " b'I m watching I get the irony by tweeting this Two things I have a knot in my stomach and'\n",
            " b'Fun Fact After watching TheSocialDilemma I switched off notifications for all my apps Tonight I ve kept opening'\n",
            " b'No one warned me TheSocialDilemma was a horror film'\n",
            " b'Anyone watch TheSocialDilemma yet'\n",
            " b'I watched this excellent documentary yesterday Thought provoking amp shocking yet not entirely unsurprising I hi'\n",
            " b'is there a support group for people who watched TheSocialDilemma and are not sure about how to proceed with their lives because same'\n",
            " b'Everyone should watch TheSocialDilemma'\n",
            " b'Also this thing is telling us how evil algorithms are but I would almost guarantee that Netflix put Pete Campbe'\n",
            " b'this exposes truths about big data manipulation amp warnings from the people who designed facebook google Instagr'\n",
            " b'Sooo PLAYING NBA2K21 IS IT THAT SERIOUS U Would let the down Click link for full video On'\n",
            " b'This documentary lifts the veil My god how will you fix this TheSocialDilemma'\n",
            " b'Glad somebody said it TheSocialDilemma'\n",
            " b'TheSocialDilemma on revealing social media harms Medical journals mandating twitter handles and tweets o'\n",
            " b'This is the most impactful documentary i have ever seen I highly recommend everyone should definately watch this'\n",
            " b'Deleted fbook from my phone so now I live here Let s see how long I can last TheSocialDilemma AmIDoingThisRight addict'\n",
            " b'TheSocialDilemma is an explicitly deep behavioural research based documentary highlighting the flaws of'\n",
            " b'Tech company s influence on our society is to huge be ignored How we treat each other Our election etc have all'\n",
            " b'TheSocialDilemma We curate our lives around this perceived sense of perfection o'\n",
            " b'If you are not paying for the products then you are the product TheSocialDilemma This is serious'\n",
            " b'TheSocialDilemma didn t even get to the part where they put this technology in our brain'\n",
            " b'Watched The social dilemma and it s the real picture of Tech People are computing node then being targeted by ads'\n",
            " b'The digital presence we live in has changed and as machine learning advances we are relying more and more on algor'\n",
            " b'Social media has become a digital pacifier for the lonely amp uncertain to know that the majority of the world c'\n",
            " b'If you re not paying for the product then you re the product There are only two industries that call their cu'\n",
            " b'If you ve recently seen TheSocialDilemma this will have meaning for you As humans we ve not yet adapted to be'\n",
            " b'I really enjoyed watching TheSocialDilemma simply reinforced my lack in posting Very informative around the desig'\n",
            " b'Socialmedia TheSocialDilemma docudrama a review the matter at hand is not to ask what kind of computers'\n",
            " b'New MovieFilm Podcast is up Hear our thoughts on ClassActionPark TheSocialDilemma and'\n",
            " b'Watch TheSocialDilemma Very informative'\n",
            " b'Howling at this TheSocialDilemma'\n",
            " b'Perhaps the best part about TheSocialDilemma is how it won t change anything amp it knows it The problem as usual'\n",
            " b'If you haven t watched TheSocialDilemma on you should I m encouraging everyone I know to watch it'\n",
            " b'Watched TheSocialDilemma and want to do something If you are in California vote Yes on Prop24']\n",
            "\n",
            "Label :  [1 2 1 2 1 0 1 1 1 2 2 0 0 1 2 2 1 0 0 2 1 2 2 1 2 2 0 1 1 1 2 1 2 1 1 1 0\n",
            " 1 0 1 0 1 2 2 2 2 1 2 2 0 1 2 2 2 1 1 2 2 2 2 1 2 1 1]\n",
            "\n",
            "Len : 64\n",
            "****************************************************************************************************\n"
          ]
        }
      ]
    },
    {
      "cell_type": "code",
      "source": [
        "# EValuating model on test_dataset\n",
        "test_loss, test_acc = model.evaluate(test_dataset)"
      ],
      "metadata": {
        "colab": {
          "base_uri": "https://localhost:8080/"
        },
        "id": "aAK8eoZkj8go",
        "outputId": "4c3bcc1b-9c8c-455f-fb3a-9b6dec133d5a"
      },
      "execution_count": null,
      "outputs": [
        {
          "output_type": "stream",
          "name": "stdout",
          "text": [
            "63/63 [==============================] - 1s 8ms/step - loss: 0.4560 - accuracy: 0.8617\n"
          ]
        }
      ]
    },
    {
      "cell_type": "code",
      "source": [
        "# Print loss and accuracy\n",
        "\n",
        "print(\"The test loss is : {}\".format(test_loss))\n",
        "print(\"The test accuracy is : {}\".format(test_acc))"
      ],
      "metadata": {
        "colab": {
          "base_uri": "https://localhost:8080/"
        },
        "id": "9DynCzSdkOxN",
        "outputId": "89151744-db3a-4a1b-c5dc-63cb16617ace"
      },
      "execution_count": null,
      "outputs": [
        {
          "output_type": "stream",
          "name": "stdout",
          "text": [
            "The test loss is : 0.4560288190841675\n",
            "The test accuracy is : 0.8617234230041504\n"
          ]
        }
      ]
    },
    {
      "cell_type": "markdown",
      "source": [
        "The model has a good test accuracy of 86 %."
      ],
      "metadata": {
        "id": "6eetm93GkpLh"
      }
    },
    {
      "cell_type": "code",
      "source": [
        "# Plot the Training and Validation Accuracy and Loss for our RNN model\n",
        "N = np.arange(0, EPOCHS)\n",
        "\n",
        "fig, ax = plt.subplots(2,1, figsize = [20,20])\n",
        "ax = ax.ravel()\n",
        "\n",
        "ax[0].plot(N, h.history[\"loss\"], label = \"RNN_train_loss\")\n",
        "ax[0].plot(N, h.history[\"val_loss\"], label = \"RNN_val_loss\")\n",
        "ax[0].set_title(\"RNN : Training & Validation Loss\")\n",
        "ax[0].set_xlabel(\"Epoch #\", weight = \"bold\")\n",
        "ax[0].set_ylabel(\"Loss\", weight = \"bold\")\n",
        "ax[0].legend()\n",
        "\n",
        "ax[1].plot(N, h.history[\"accuracy\"], label = \"RNN_train_acc\")\n",
        "ax[1].plot(N, h.history[\"val_accuracy\"], label = \"RNN_val_acc\")\n",
        "ax[1].set_title(\"RNN : Training & Validation Accuracy\")\n",
        "ax[1].set_xlabel(\"Epoch #\", weight = \"bold\")\n",
        "ax[1].set_ylabel(\"Accuracy\", weight = \"bold\")\n",
        "ax[1].legend()\n",
        "\n",
        "plt.subplots_adjust(wspace=0.2, hspace=0.2)"
      ],
      "metadata": {
        "colab": {
          "base_uri": "https://localhost:8080/",
          "height": 903
        },
        "id": "QXQMDUF9kjxN",
        "outputId": "cad3c778-1b6d-4caf-f71e-1eddf913580a"
      },
      "execution_count": null,
      "outputs": [
        {
          "output_type": "display_data",
          "data": {
            "image/png": "[encoded data removed]",
            "text/plain": [
              "<Figure size 1440x1440 with 2 Axes>"
            ]
          },
          "metadata": {}
        }
      ]
    },
    {
      "cell_type": "markdown",
      "source": [
        "We can see the curves are very smooth and converging. <br>Our model is pretty well-trained and no over-fitting and over-training."
      ],
      "metadata": {
        "id": "RD1vVA0ul41C"
      }
    },
    {
      "cell_type": "code",
      "source": [
        "# Making predictions on df_test\n",
        "preds = model.predict(np.array(df_test[\"clean_text\"]))\n",
        "preds[0:10]"
      ],
      "metadata": {
        "colab": {
          "base_uri": "https://localhost:8080/"
        },
        "id": "4e6XDpWJly1m",
        "outputId": "1df1ea7d-e564-45e3-89be-b20c0e7a75d8"
      },
      "execution_count": null,
      "outputs": [
        {
          "output_type": "execute_result",
          "data": {
            "text/plain": [
              "array([[2.7320109e-02, 8.7812716e-01, 9.4552696e-02],\n",
              "       [2.2154214e-04, 5.8599682e-05, 9.9971980e-01],\n",
              "       [1.1953964e-02, 9.7359854e-01, 1.4447478e-02],\n",
              "       [2.1631760e-03, 2.2063626e-03, 9.9563050e-01],\n",
              "       [1.0599000e-02, 9.8767507e-01, 1.7259133e-03],\n",
              "       [6.6777754e-01, 5.4265494e-03, 3.2679597e-01],\n",
              "       [8.7817665e-03, 9.7926074e-01, 1.1957447e-02],\n",
              "       [7.7389311e-03, 9.8324388e-01, 9.0172254e-03],\n",
              "       [3.0153591e-02, 9.2404693e-02, 8.7744176e-01],\n",
              "       [6.0633343e-01, 8.1827659e-03, 3.8548383e-01]], dtype=float32)"
            ]
          },
          "metadata": {},
          "execution_count": 130
        }
      ]
    },
    {
      "cell_type": "code",
      "source": [
        "np.array(df_test[\"clean_text\"][3991])"
      ],
      "metadata": {
        "colab": {
          "base_uri": "https://localhost:8080/"
        },
        "id": "Sk6AWSH4pjfI",
        "outputId": "d4deca0e-cfb6-4285-a966-790c8abc4cab"
      },
      "execution_count": null,
      "outputs": [
        {
          "output_type": "execute_result",
          "data": {
            "text/plain": [
              "array('had the impression that is actually sitting in a jail cell in TheSocialDilemma telling us discomfo',\n",
              "      dtype='<U98')"
            ]
          },
          "metadata": {},
          "execution_count": 121
        }
      ]
    },
    {
      "cell_type": "code",
      "source": [
        "# we need to get label for prediction from probabailities\n",
        "pred = []\n",
        "for i in range(len(preds_prob)):\n",
        "    index = preds_prob[i].argmax()\n",
        "    pred.append(index)\n",
        "\n",
        "pred[0:10]"
      ],
      "metadata": {
        "colab": {
          "base_uri": "https://localhost:8080/"
        },
        "id": "p_FA1XHjn0z_",
        "outputId": "9d72aef8-e14e-4142-94ed-a49b46c50c98"
      },
      "execution_count": null,
      "outputs": [
        {
          "output_type": "execute_result",
          "data": {
            "text/plain": [
              "[1, 2, 1, 2, 1, 0, 1, 1, 2, 0]"
            ]
          },
          "metadata": {},
          "execution_count": 134
        }
      ]
    },
    {
      "cell_type": "code",
      "source": [
        "df_test[\"Pred\"] = pred\n",
        "df_test.head()"
      ],
      "metadata": {
        "colab": {
          "base_uri": "https://localhost:8080/",
          "height": 205
        },
        "id": "0rcyzAY4pUx_",
        "outputId": "b76ed146-fe13-42d3-9c1e-6cd2b108cf42"
      },
      "execution_count": null,
      "outputs": [
        {
          "output_type": "execute_result",
          "data": {
            "text/html": [
              "\n",
              "  <div id=\"df-efdd8312-0558-4f66-9f62-959bc7a41127\">\n",
              "    <div class=\"colab-df-container\">\n",
              "      <div>\n",
              "<style scoped>\n",
              "    .dataframe tbody tr th:only-of-type {\n",
              "        vertical-align: middle;\n",
              "    }\n",
              "\n",
              "    .dataframe tbody tr th {\n",
              "        vertical-align: top;\n",
              "    }\n",
              "\n",
              "    .dataframe thead th {\n",
              "        text-align: right;\n",
              "    }\n",
              "</style>\n",
              "<table border=\"1\" class=\"dataframe\">\n",
              "  <thead>\n",
              "    <tr style=\"text-align: right;\">\n",
              "      <th></th>\n",
              "      <th>clean_text</th>\n",
              "      <th>Label</th>\n",
              "      <th>Pred</th>\n",
              "    </tr>\n",
              "  </thead>\n",
              "  <tbody>\n",
              "    <tr>\n",
              "      <th>0</th>\n",
              "      <td>Has anyone watched TheSocialDilemma on Netflix...</td>\n",
              "      <td>1</td>\n",
              "      <td>1</td>\n",
              "    </tr>\n",
              "    <tr>\n",
              "      <th>1</th>\n",
              "      <td>Social media platforms like Twitter Facebook I...</td>\n",
              "      <td>2</td>\n",
              "      <td>2</td>\n",
              "    </tr>\n",
              "    <tr>\n",
              "      <th>2</th>\n",
              "      <td>That s it that s the tweet TheSocialDilemma</td>\n",
              "      <td>1</td>\n",
              "      <td>1</td>\n",
              "    </tr>\n",
              "    <tr>\n",
              "      <th>3</th>\n",
              "      <td>Powerful words by Justin Rosenstein former pro...</td>\n",
              "      <td>2</td>\n",
              "      <td>2</td>\n",
              "    </tr>\n",
              "    <tr>\n",
              "      <th>4</th>\n",
              "      <td>Try dopamine fasts Do Watch this documentary T...</td>\n",
              "      <td>1</td>\n",
              "      <td>1</td>\n",
              "    </tr>\n",
              "  </tbody>\n",
              "</table>\n",
              "</div>\n",
              "      <button class=\"colab-df-convert\" onclick=\"convertToInteractive('df-efdd8312-0558-4f66-9f62-959bc7a41127')\"\n",
              "              title=\"Convert this dataframe to an interactive table.\"\n",
              "              style=\"display:none;\">\n",
              "        \n",
              "  <svg xmlns=\"http://www.w3.org/2000/svg\" height=\"24px\"viewBox=\"0 0 24 24\"\n",
              "       width=\"24px\">\n",
              "    <path d=\"M0 0h24v24H0V0z\" fill=\"none\"/>\n",
              "    <path d=\"M18.56 5.44l.94 2.06.94-2.06 2.06-.94-2.06-.94-.94-2.06-.94 2.06-2.06.94zm-11 1L8.5 8.5l.94-2.06 2.06-.94-2.06-.94L8.5 2.5l-.94 2.06-2.06.94zm10 10l.94 2.06.94-2.06 2.06-.94-2.06-.94-.94-2.06-.94 2.06-2.06.94z\"/><path d=\"M17.41 7.96l-1.37-1.37c-.4-.4-.92-.59-1.43-.59-.52 0-1.04.2-1.43.59L10.3 9.45l-7.72 7.72c-.78.78-.78 2.05 0 2.83L4 21.41c.39.39.9.59 1.41.59.51 0 1.02-.2 1.41-.59l7.78-7.78 2.81-2.81c.8-.78.8-2.07 0-2.86zM5.41 20L4 18.59l7.72-7.72 1.47 1.35L5.41 20z\"/>\n",
              "  </svg>\n",
              "      </button>\n",
              "      \n",
              "  <style>\n",
              "    .colab-df-container {\n",
              "      display:flex;\n",
              "      flex-wrap:wrap;\n",
              "      gap: 12px;\n",
              "    }\n",
              "\n",
              "    .colab-df-convert {\n",
              "      background-color: #E8F0FE;\n",
              "      border: none;\n",
              "      border-radius: 50%;\n",
              "      cursor: pointer;\n",
              "      display: none;\n",
              "      fill: #1967D2;\n",
              "      height: 32px;\n",
              "      padding: 0 0 0 0;\n",
              "      width: 32px;\n",
              "    }\n",
              "\n",
              "    .colab-df-convert:hover {\n",
              "      background-color: #E2EBFA;\n",
              "      box-shadow: 0px 1px 2px rgba(60, 64, 67, 0.3), 0px 1px 3px 1px rgba(60, 64, 67, 0.15);\n",
              "      fill: #174EA6;\n",
              "    }\n",
              "\n",
              "    [theme=dark] .colab-df-convert {\n",
              "      background-color: #3B4455;\n",
              "      fill: #D2E3FC;\n",
              "    }\n",
              "\n",
              "    [theme=dark] .colab-df-convert:hover {\n",
              "      background-color: #434B5C;\n",
              "      box-shadow: 0px 1px 3px 1px rgba(0, 0, 0, 0.15);\n",
              "      filter: drop-shadow(0px 1px 2px rgba(0, 0, 0, 0.3));\n",
              "      fill: #FFFFFF;\n",
              "    }\n",
              "  </style>\n",
              "\n",
              "      <script>\n",
              "        const buttonEl =\n",
              "          document.querySelector('#df-efdd8312-0558-4f66-9f62-959bc7a41127 button.colab-df-convert');\n",
              "        buttonEl.style.display =\n",
              "          google.colab.kernel.accessAllowed ? 'block' : 'none';\n",
              "\n",
              "        async function convertToInteractive(key) {\n",
              "          const element = document.querySelector('#df-efdd8312-0558-4f66-9f62-959bc7a41127');\n",
              "          const dataTable =\n",
              "            await google.colab.kernel.invokeFunction('convertToInteractive',\n",
              "                                                     [key], {});\n",
              "          if (!dataTable) return;\n",
              "\n",
              "          const docLinkHtml = 'Like what you see? Visit the ' +\n",
              "            '<a target=\"_blank\" href=https://colab.research.google.com/notebooks/data_table.ipynb>data table notebook</a>'\n",
              "            + ' to learn more about interactive tables.';\n",
              "          element.innerHTML = '';\n",
              "          dataTable['output_type'] = 'display_data';\n",
              "          await google.colab.output.renderOutput(dataTable, element);\n",
              "          const docLink = document.createElement('div');\n",
              "          docLink.innerHTML = docLinkHtml;\n",
              "          element.appendChild(docLink);\n",
              "        }\n",
              "      </script>\n",
              "    </div>\n",
              "  </div>\n",
              "  "
            ],
            "text/plain": [
              "                                          clean_text  Label  Pred\n",
              "0  Has anyone watched TheSocialDilemma on Netflix...      1     1\n",
              "1  Social media platforms like Twitter Facebook I...      2     2\n",
              "2        That s it that s the tweet TheSocialDilemma      1     1\n",
              "3  Powerful words by Justin Rosenstein former pro...      2     2\n",
              "4  Try dopamine fasts Do Watch this documentary T...      1     1"
            ]
          },
          "metadata": {},
          "execution_count": 135
        }
      ]
    },
    {
      "cell_type": "markdown",
      "source": [
        "### Confusion Matrix:"
      ],
      "metadata": {
        "id": "h8A3of8-uri2"
      }
    },
    {
      "cell_type": "code",
      "source": [
        "# Confusion Matrix\n",
        "\n",
        "cm = confusion_matrix(df_test[\"Label\"], df_test[\"Pred\"])\n",
        "plt.figure(figsize=(12,10))\n",
        "sns.heatmap(cm, annot=True, fmt='d')"
      ],
      "metadata": {
        "colab": {
          "base_uri": "https://localhost:8080/",
          "height": 611
        },
        "id": "qBRIh6xnu31g",
        "outputId": "e6e456a6-fe5f-4e19-f418-45681709327c"
      },
      "execution_count": null,
      "outputs": [
        {
          "output_type": "execute_result",
          "data": {
            "text/plain": [
              "<matplotlib.axes._subplots.AxesSubplot at 0x7f2f8459a5d0>"
            ]
          },
          "metadata": {},
          "execution_count": 136
        },
        {
          "output_type": "display_data",
          "data": {
            "image/png": "[encoded data removed]",
            "text/plain": [
              "<Figure size 864x720 with 2 Axes>"
            ]
          },
          "metadata": {}
        }
      ]
    },
    {
      "cell_type": "markdown",
      "source": [
        "Number of True Positives is more."
      ],
      "metadata": {
        "id": "zSTY15wYvZ1d"
      }
    },
    {
      "cell_type": "code",
      "source": [
        "# Classification Report\n",
        "print(\"Classification Report of RNN\")\n",
        "print(classification_report(df_test[\"Label\"], df_test[\"Pred\"]))"
      ],
      "metadata": {
        "colab": {
          "base_uri": "https://localhost:8080/"
        },
        "id": "pmxGDL_DuoeO",
        "outputId": "2cedc0d7-9331-477f-c873-11b7fc7c36f1"
      },
      "execution_count": null,
      "outputs": [
        {
          "output_type": "stream",
          "name": "stdout",
          "text": [
            "Classification Report of RNN\n",
            "              precision    recall  f1-score   support\n",
            "\n",
            "           0       0.73      0.70      0.72       670\n",
            "           1       0.87      0.88      0.88      1390\n",
            "           2       0.90      0.90      0.90      1932\n",
            "\n",
            "    accuracy                           0.86      3992\n",
            "   macro avg       0.83      0.83      0.83      3992\n",
            "weighted avg       0.86      0.86      0.86      3992\n",
            "\n"
          ]
        }
      ]
    },
    {
      "cell_type": "markdown",
      "source": [
        "Model Performance is okay. Accuracy is 86% , and recall and precision are considerably good."
      ],
      "metadata": {
        "id": "lyfbwQf7vk4R"
      }
    },
    {
      "cell_type": "code",
      "source": [
        "# Model Accuracy\n",
        "acc=accuracy_score(df_test[\"Label\"], df_test[\"Pred\"])\n",
        "print(\"The accuracy of the RNN model : {:.2f} % \".format(acc*100))"
      ],
      "metadata": {
        "colab": {
          "base_uri": "https://localhost:8080/"
        },
        "id": "r5DXUCXsvTTv",
        "outputId": "3469f994-0635-4d81-dc31-948761a27c5a"
      },
      "execution_count": null,
      "outputs": [
        {
          "output_type": "stream",
          "name": "stdout",
          "text": [
            "The accuracy of the RNN model : 86.17 % \n"
          ]
        }
      ]
    },
    {
      "cell_type": "markdown",
      "source": [
        "The accuracy score of our model is pretty nice and our model is good."
      ],
      "metadata": {
        "id": "O_pRM98Qv_GE"
      }
    },
    {
      "cell_type": "markdown",
      "source": [
        "## **Predictions on Test Data without labels:**"
      ],
      "metadata": {
        "id": "xq_UV8VAwHH4"
      }
    },
    {
      "cell_type": "code",
      "source": [
        "# Load data\n",
        "test_data = pd.read_csv(\"Tweets/tweets_test.csv\")\n",
        "test_data.head()"
      ],
      "metadata": {
        "colab": {
          "base_uri": "https://localhost:8080/",
          "height": 478
        },
        "id": "I1B0clabv8N1",
        "outputId": "b1e498ad-3e15-48bc-b74c-1a36c5c4d568"
      },
      "execution_count": null,
      "outputs": [
        {
          "output_type": "execute_result",
          "data": {
            "text/html": [
              "\n",
              "  <div id=\"df-07dd3165-3bf2-44d3-b7ac-b60b6655101e\">\n",
              "    <div class=\"colab-df-container\">\n",
              "      <div>\n",
              "<style scoped>\n",
              "    .dataframe tbody tr th:only-of-type {\n",
              "        vertical-align: middle;\n",
              "    }\n",
              "\n",
              "    .dataframe tbody tr th {\n",
              "        vertical-align: top;\n",
              "    }\n",
              "\n",
              "    .dataframe thead th {\n",
              "        text-align: right;\n",
              "    }\n",
              "</style>\n",
              "<table border=\"1\" class=\"dataframe\">\n",
              "  <thead>\n",
              "    <tr style=\"text-align: right;\">\n",
              "      <th></th>\n",
              "      <th>user_name</th>\n",
              "      <th>user_location</th>\n",
              "      <th>user_description</th>\n",
              "      <th>user_created</th>\n",
              "      <th>user_followers</th>\n",
              "      <th>user_friends</th>\n",
              "      <th>user_favourites</th>\n",
              "      <th>user_verified</th>\n",
              "      <th>date</th>\n",
              "      <th>hashtags</th>\n",
              "      <th>source</th>\n",
              "      <th>is_retweet</th>\n",
              "      <th>clean_text</th>\n",
              "    </tr>\n",
              "  </thead>\n",
              "  <tbody>\n",
              "    <tr>\n",
              "      <th>0</th>\n",
              "      <td>Doug Webb</td>\n",
              "      <td>Probably Europe</td>\n",
              "      <td>I develop methods for effective cooperation, w...</td>\n",
              "      <td>2015-12-12 15:22:58</td>\n",
              "      <td>157</td>\n",
              "      <td>228</td>\n",
              "      <td>496</td>\n",
              "      <td>False</td>\n",
              "      <td>2020-09-15 22:53:36</td>\n",
              "      <td>['theSocialDilemma', 'joinMastodon']</td>\n",
              "      <td>Twitter Web App</td>\n",
              "      <td>False</td>\n",
              "      <td>Watch theSocialDilemma then joinMastodon</td>\n",
              "    </tr>\n",
              "    <tr>\n",
              "      <th>1</th>\n",
              "      <td>Dan Reynish</td>\n",
              "      <td>Medicine Hat, Alberta</td>\n",
              "      <td>News Anchor at Noon and 5 pm on CHAT TV. Canad...</td>\n",
              "      <td>2011-09-10 12:17:10</td>\n",
              "      <td>1722</td>\n",
              "      <td>2500</td>\n",
              "      <td>13912</td>\n",
              "      <td>False</td>\n",
              "      <td>2020-09-12 04:43:03</td>\n",
              "      <td>['WeTheNorth']</td>\n",
              "      <td>Twitter Web App</td>\n",
              "      <td>False</td>\n",
              "      <td>With the 2019 2020 NBA season officially over ...</td>\n",
              "    </tr>\n",
              "    <tr>\n",
              "      <th>2</th>\n",
              "      <td>🌤</td>\n",
              "      <td>NaN</td>\n",
              "      <td>NaN</td>\n",
              "      <td>2011-06-01 02:23:57</td>\n",
              "      <td>880</td>\n",
              "      <td>585</td>\n",
              "      <td>205</td>\n",
              "      <td>False</td>\n",
              "      <td>2020-09-19 07:06:53</td>\n",
              "      <td>['TheSocialDilemma']</td>\n",
              "      <td>Twitter for iPhone</td>\n",
              "      <td>False</td>\n",
              "      <td>if you want to really know about people go tal...</td>\n",
              "    </tr>\n",
              "    <tr>\n",
              "      <th>3</th>\n",
              "      <td>“IT IS WHAT IT IS.”🇰🇪🇳🇿🇺🇸</td>\n",
              "      <td>WA</td>\n",
              "      <td>Heliophile🌞☀️• #Rugby • Wildlifer • #HIV • #So...</td>\n",
              "      <td>2009-04-17 13:35:02</td>\n",
              "      <td>1143</td>\n",
              "      <td>2692</td>\n",
              "      <td>11999</td>\n",
              "      <td>False</td>\n",
              "      <td>2020-09-12 18:28:18</td>\n",
              "      <td>['TheSocialDilemma', 'Netflix']</td>\n",
              "      <td>Twitter for iPhone</td>\n",
              "      <td>False</td>\n",
              "      <td>Have you watched TheSocialDilemma on Netflix</td>\n",
              "    </tr>\n",
              "    <tr>\n",
              "      <th>4</th>\n",
              "      <td>Mahima Sood</td>\n",
              "      <td>NaN</td>\n",
              "      <td>Amy Dunne X Holly Golightly || Data Scientist ...</td>\n",
              "      <td>2018-01-26 21:57:22</td>\n",
              "      <td>18</td>\n",
              "      <td>65</td>\n",
              "      <td>263</td>\n",
              "      <td>False</td>\n",
              "      <td>2020-09-12 18:48:53</td>\n",
              "      <td>['TheSocialDilemma']</td>\n",
              "      <td>Twitter for iPhone</td>\n",
              "      <td>False</td>\n",
              "      <td>Highly recommend TheSocialDilemma on</td>\n",
              "    </tr>\n",
              "  </tbody>\n",
              "</table>\n",
              "</div>\n",
              "      <button class=\"colab-df-convert\" onclick=\"convertToInteractive('df-07dd3165-3bf2-44d3-b7ac-b60b6655101e')\"\n",
              "              title=\"Convert this dataframe to an interactive table.\"\n",
              "              style=\"display:none;\">\n",
              "        \n",
              "  <svg xmlns=\"http://www.w3.org/2000/svg\" height=\"24px\"viewBox=\"0 0 24 24\"\n",
              "       width=\"24px\">\n",
              "    <path d=\"M0 0h24v24H0V0z\" fill=\"none\"/>\n",
              "    <path d=\"M18.56 5.44l.94 2.06.94-2.06 2.06-.94-2.06-.94-.94-2.06-.94 2.06-2.06.94zm-11 1L8.5 8.5l.94-2.06 2.06-.94-2.06-.94L8.5 2.5l-.94 2.06-2.06.94zm10 10l.94 2.06.94-2.06 2.06-.94-2.06-.94-.94-2.06-.94 2.06-2.06.94z\"/><path d=\"M17.41 7.96l-1.37-1.37c-.4-.4-.92-.59-1.43-.59-.52 0-1.04.2-1.43.59L10.3 9.45l-7.72 7.72c-.78.78-.78 2.05 0 2.83L4 21.41c.39.39.9.59 1.41.59.51 0 1.02-.2 1.41-.59l7.78-7.78 2.81-2.81c.8-.78.8-2.07 0-2.86zM5.41 20L4 18.59l7.72-7.72 1.47 1.35L5.41 20z\"/>\n",
              "  </svg>\n",
              "      </button>\n",
              "      \n",
              "  <style>\n",
              "    .colab-df-container {\n",
              "      display:flex;\n",
              "      flex-wrap:wrap;\n",
              "      gap: 12px;\n",
              "    }\n",
              "\n",
              "    .colab-df-convert {\n",
              "      background-color: #E8F0FE;\n",
              "      border: none;\n",
              "      border-radius: 50%;\n",
              "      cursor: pointer;\n",
              "      display: none;\n",
              "      fill: #1967D2;\n",
              "      height: 32px;\n",
              "      padding: 0 0 0 0;\n",
              "      width: 32px;\n",
              "    }\n",
              "\n",
              "    .colab-df-convert:hover {\n",
              "      background-color: #E2EBFA;\n",
              "      box-shadow: 0px 1px 2px rgba(60, 64, 67, 0.3), 0px 1px 3px 1px rgba(60, 64, 67, 0.15);\n",
              "      fill: #174EA6;\n",
              "    }\n",
              "\n",
              "    [theme=dark] .colab-df-convert {\n",
              "      background-color: #3B4455;\n",
              "      fill: #D2E3FC;\n",
              "    }\n",
              "\n",
              "    [theme=dark] .colab-df-convert:hover {\n",
              "      background-color: #434B5C;\n",
              "      box-shadow: 0px 1px 3px 1px rgba(0, 0, 0, 0.15);\n",
              "      filter: drop-shadow(0px 1px 2px rgba(0, 0, 0, 0.3));\n",
              "      fill: #FFFFFF;\n",
              "    }\n",
              "  </style>\n",
              "\n",
              "      <script>\n",
              "        const buttonEl =\n",
              "          document.querySelector('#df-07dd3165-3bf2-44d3-b7ac-b60b6655101e button.colab-df-convert');\n",
              "        buttonEl.style.display =\n",
              "          google.colab.kernel.accessAllowed ? 'block' : 'none';\n",
              "\n",
              "        async function convertToInteractive(key) {\n",
              "          const element = document.querySelector('#df-07dd3165-3bf2-44d3-b7ac-b60b6655101e');\n",
              "          const dataTable =\n",
              "            await google.colab.kernel.invokeFunction('convertToInteractive',\n",
              "                                                     [key], {});\n",
              "          if (!dataTable) return;\n",
              "\n",
              "          const docLinkHtml = 'Like what you see? Visit the ' +\n",
              "            '<a target=\"_blank\" href=https://colab.research.google.com/notebooks/data_table.ipynb>data table notebook</a>'\n",
              "            + ' to learn more about interactive tables.';\n",
              "          element.innerHTML = '';\n",
              "          dataTable['output_type'] = 'display_data';\n",
              "          await google.colab.output.renderOutput(dataTable, element);\n",
              "          const docLink = document.createElement('div');\n",
              "          docLink.innerHTML = docLinkHtml;\n",
              "          element.appendChild(docLink);\n",
              "        }\n",
              "      </script>\n",
              "    </div>\n",
              "  </div>\n",
              "  "
            ],
            "text/plain": [
              "                   user_name          user_location  \\\n",
              "0                  Doug Webb        Probably Europe   \n",
              "1                Dan Reynish  Medicine Hat, Alberta   \n",
              "2                          🌤                    NaN   \n",
              "3  “IT IS WHAT IT IS.”🇰🇪🇳🇿🇺🇸                     WA   \n",
              "4                Mahima Sood                    NaN   \n",
              "\n",
              "                                    user_description         user_created  \\\n",
              "0  I develop methods for effective cooperation, w...  2015-12-12 15:22:58   \n",
              "1  News Anchor at Noon and 5 pm on CHAT TV. Canad...  2011-09-10 12:17:10   \n",
              "2                                                NaN  2011-06-01 02:23:57   \n",
              "3  Heliophile🌞☀️• #Rugby • Wildlifer • #HIV • #So...  2009-04-17 13:35:02   \n",
              "4  Amy Dunne X Holly Golightly || Data Scientist ...  2018-01-26 21:57:22   \n",
              "\n",
              "   user_followers  user_friends  user_favourites  user_verified  \\\n",
              "0             157           228              496          False   \n",
              "1            1722          2500            13912          False   \n",
              "2             880           585              205          False   \n",
              "3            1143          2692            11999          False   \n",
              "4              18            65              263          False   \n",
              "\n",
              "                  date                              hashtags  \\\n",
              "0  2020-09-15 22:53:36  ['theSocialDilemma', 'joinMastodon']   \n",
              "1  2020-09-12 04:43:03                        ['WeTheNorth']   \n",
              "2  2020-09-19 07:06:53                  ['TheSocialDilemma']   \n",
              "3  2020-09-12 18:28:18       ['TheSocialDilemma', 'Netflix']   \n",
              "4  2020-09-12 18:48:53                  ['TheSocialDilemma']   \n",
              "\n",
              "               source  is_retweet  \\\n",
              "0     Twitter Web App       False   \n",
              "1     Twitter Web App       False   \n",
              "2  Twitter for iPhone       False   \n",
              "3  Twitter for iPhone       False   \n",
              "4  Twitter for iPhone       False   \n",
              "\n",
              "                                          clean_text  \n",
              "0           Watch theSocialDilemma then joinMastodon  \n",
              "1  With the 2019 2020 NBA season officially over ...  \n",
              "2  if you want to really know about people go tal...  \n",
              "3       Have you watched TheSocialDilemma on Netflix  \n",
              "4               Highly recommend TheSocialDilemma on  "
            ]
          },
          "metadata": {},
          "execution_count": 140
        }
      ]
    },
    {
      "cell_type": "markdown",
      "source": [
        "There is no label we need only \"clean_text\" column.\n"
      ],
      "metadata": {
        "id": "m88_VCstwlQI"
      }
    },
    {
      "cell_type": "code",
      "source": [
        "# Check missing values for clean_text\n",
        "test_data_ct = test_data[[\"clean_text\"]]\n",
        "test_data_ct.columns=[\"clean_text\"]\n",
        "test_data_ct.isnull().sum()"
      ],
      "metadata": {
        "colab": {
          "base_uri": "https://localhost:8080/"
        },
        "id": "LKbHV0y8xRRx",
        "outputId": "65bd2127-50db-4a07-b706-8fe2a6a12a7c"
      },
      "execution_count": null,
      "outputs": [
        {
          "output_type": "execute_result",
          "data": {
            "text/plain": [
              "clean_text    1\n",
              "dtype: int64"
            ]
          },
          "metadata": {},
          "execution_count": 153
        }
      ]
    },
    {
      "cell_type": "code",
      "source": [
        "test_data_ct.clean_text = test_data_ct.clean_text.fillna('Null') \n",
        "test_data_ct.isnull().sum()"
      ],
      "metadata": {
        "colab": {
          "base_uri": "https://localhost:8080/"
        },
        "id": "_OWUD43_ynzn",
        "outputId": "11aa9870-9043-4269-b24f-959a8d94158c"
      },
      "execution_count": null,
      "outputs": [
        {
          "output_type": "execute_result",
          "data": {
            "text/plain": [
              "clean_text    0\n",
              "dtype: int64"
            ]
          },
          "metadata": {},
          "execution_count": 156
        }
      ]
    },
    {
      "cell_type": "code",
      "source": [
        "# Making Predictions\n",
        "# Making predictions on df_test\n",
        "probs = model.predict(np.array(test_data_ct[\"clean_text\"]))\n",
        "probs[0:10]"
      ],
      "metadata": {
        "colab": {
          "base_uri": "https://localhost:8080/"
        },
        "id": "8PV-ehvxwie_",
        "outputId": "2d063d68-1ecd-4d04-c41d-15ffa2ea3581"
      },
      "execution_count": null,
      "outputs": [
        {
          "output_type": "execute_result",
          "data": {
            "text/plain": [
              "array([[1.9814460e-02, 9.5975280e-01, 2.0432737e-02],\n",
              "       [1.8044403e-02, 9.4653910e-01, 3.5416514e-02],\n",
              "       [6.0271244e-03, 2.2726765e-04, 9.9374557e-01],\n",
              "       [1.0768108e-02, 9.7784460e-01, 1.1387363e-02],\n",
              "       [1.8749058e-02, 4.6978169e-03, 9.7655314e-01],\n",
              "       [1.1398599e-01, 3.6797265e-03, 8.8233429e-01],\n",
              "       [4.8661832e-02, 9.3380743e-01, 1.7530762e-02],\n",
              "       [4.5403790e-02, 9.2998070e-01, 2.4615530e-02],\n",
              "       [2.7248554e-02, 8.2016978e-03, 9.6454972e-01],\n",
              "       [3.3297963e-02, 5.2880519e-03, 9.6141398e-01]], dtype=float32)"
            ]
          },
          "metadata": {},
          "execution_count": 157
        }
      ]
    },
    {
      "cell_type": "code",
      "source": [
        "# we need to get label for prediction from probabailities\n",
        "Sentiment = []\n",
        "classes=[\"Negative\",\"Neutral\",\"Positive\"]\n",
        "for i in range(len(probs)):\n",
        "    index = probs[i].argmax()\n",
        "    sent = classes[index]\n",
        "    Sentiment.append(sent)\n",
        "    \n",
        "Sentiment[:10]"
      ],
      "metadata": {
        "colab": {
          "base_uri": "https://localhost:8080/"
        },
        "id": "pgDvvGD5xtnu",
        "outputId": "82c6f948-4180-4607-ce06-88ab52845962"
      },
      "execution_count": null,
      "outputs": [
        {
          "output_type": "execute_result",
          "data": {
            "text/plain": [
              "['Neutral',\n",
              " 'Neutral',\n",
              " 'Positive',\n",
              " 'Neutral',\n",
              " 'Positive',\n",
              " 'Positive',\n",
              " 'Neutral',\n",
              " 'Neutral',\n",
              " 'Positive',\n",
              " 'Positive']"
            ]
          },
          "metadata": {},
          "execution_count": 166
        }
      ]
    },
    {
      "cell_type": "code",
      "source": [
        "# Add Sentiment column to our original datasheet\n",
        "test_data[\"Sentiment\"] = Sentiment\n",
        "test_data.head()"
      ],
      "metadata": {
        "colab": {
          "base_uri": "https://localhost:8080/",
          "height": 478
        },
        "id": "-hb4G5n1zj5W",
        "outputId": "4770d15e-ac65-4b12-ea1f-e73513a48e84"
      },
      "execution_count": null,
      "outputs": [
        {
          "output_type": "execute_result",
          "data": {
            "text/html": [
              "\n",
              "  <div id=\"df-2fd6ece9-e7e0-4102-8a1a-dc450b62bb18\">\n",
              "    <div class=\"colab-df-container\">\n",
              "      <div>\n",
              "<style scoped>\n",
              "    .dataframe tbody tr th:only-of-type {\n",
              "        vertical-align: middle;\n",
              "    }\n",
              "\n",
              "    .dataframe tbody tr th {\n",
              "        vertical-align: top;\n",
              "    }\n",
              "\n",
              "    .dataframe thead th {\n",
              "        text-align: right;\n",
              "    }\n",
              "</style>\n",
              "<table border=\"1\" class=\"dataframe\">\n",
              "  <thead>\n",
              "    <tr style=\"text-align: right;\">\n",
              "      <th></th>\n",
              "      <th>user_name</th>\n",
              "      <th>user_location</th>\n",
              "      <th>user_description</th>\n",
              "      <th>user_created</th>\n",
              "      <th>user_followers</th>\n",
              "      <th>user_friends</th>\n",
              "      <th>user_favourites</th>\n",
              "      <th>user_verified</th>\n",
              "      <th>date</th>\n",
              "      <th>hashtags</th>\n",
              "      <th>source</th>\n",
              "      <th>is_retweet</th>\n",
              "      <th>clean_text</th>\n",
              "      <th>Sentiment</th>\n",
              "    </tr>\n",
              "  </thead>\n",
              "  <tbody>\n",
              "    <tr>\n",
              "      <th>0</th>\n",
              "      <td>Doug Webb</td>\n",
              "      <td>Probably Europe</td>\n",
              "      <td>I develop methods for effective cooperation, w...</td>\n",
              "      <td>2015-12-12 15:22:58</td>\n",
              "      <td>157</td>\n",
              "      <td>228</td>\n",
              "      <td>496</td>\n",
              "      <td>False</td>\n",
              "      <td>2020-09-15 22:53:36</td>\n",
              "      <td>['theSocialDilemma', 'joinMastodon']</td>\n",
              "      <td>Twitter Web App</td>\n",
              "      <td>False</td>\n",
              "      <td>Watch theSocialDilemma then joinMastodon</td>\n",
              "      <td>Neutral</td>\n",
              "    </tr>\n",
              "    <tr>\n",
              "      <th>1</th>\n",
              "      <td>Dan Reynish</td>\n",
              "      <td>Medicine Hat, Alberta</td>\n",
              "      <td>News Anchor at Noon and 5 pm on CHAT TV. Canad...</td>\n",
              "      <td>2011-09-10 12:17:10</td>\n",
              "      <td>1722</td>\n",
              "      <td>2500</td>\n",
              "      <td>13912</td>\n",
              "      <td>False</td>\n",
              "      <td>2020-09-12 04:43:03</td>\n",
              "      <td>['WeTheNorth']</td>\n",
              "      <td>Twitter Web App</td>\n",
              "      <td>False</td>\n",
              "      <td>With the 2019 2020 NBA season officially over ...</td>\n",
              "      <td>Neutral</td>\n",
              "    </tr>\n",
              "    <tr>\n",
              "      <th>2</th>\n",
              "      <td>🌤</td>\n",
              "      <td>NaN</td>\n",
              "      <td>NaN</td>\n",
              "      <td>2011-06-01 02:23:57</td>\n",
              "      <td>880</td>\n",
              "      <td>585</td>\n",
              "      <td>205</td>\n",
              "      <td>False</td>\n",
              "      <td>2020-09-19 07:06:53</td>\n",
              "      <td>['TheSocialDilemma']</td>\n",
              "      <td>Twitter for iPhone</td>\n",
              "      <td>False</td>\n",
              "      <td>if you want to really know about people go tal...</td>\n",
              "      <td>Positive</td>\n",
              "    </tr>\n",
              "    <tr>\n",
              "      <th>3</th>\n",
              "      <td>“IT IS WHAT IT IS.”🇰🇪🇳🇿🇺🇸</td>\n",
              "      <td>WA</td>\n",
              "      <td>Heliophile🌞☀️• #Rugby • Wildlifer • #HIV • #So...</td>\n",
              "      <td>2009-04-17 13:35:02</td>\n",
              "      <td>1143</td>\n",
              "      <td>2692</td>\n",
              "      <td>11999</td>\n",
              "      <td>False</td>\n",
              "      <td>2020-09-12 18:28:18</td>\n",
              "      <td>['TheSocialDilemma', 'Netflix']</td>\n",
              "      <td>Twitter for iPhone</td>\n",
              "      <td>False</td>\n",
              "      <td>Have you watched TheSocialDilemma on Netflix</td>\n",
              "      <td>Neutral</td>\n",
              "    </tr>\n",
              "    <tr>\n",
              "      <th>4</th>\n",
              "      <td>Mahima Sood</td>\n",
              "      <td>NaN</td>\n",
              "      <td>Amy Dunne X Holly Golightly || Data Scientist ...</td>\n",
              "      <td>2018-01-26 21:57:22</td>\n",
              "      <td>18</td>\n",
              "      <td>65</td>\n",
              "      <td>263</td>\n",
              "      <td>False</td>\n",
              "      <td>2020-09-12 18:48:53</td>\n",
              "      <td>['TheSocialDilemma']</td>\n",
              "      <td>Twitter for iPhone</td>\n",
              "      <td>False</td>\n",
              "      <td>Highly recommend TheSocialDilemma on</td>\n",
              "      <td>Positive</td>\n",
              "    </tr>\n",
              "  </tbody>\n",
              "</table>\n",
              "</div>\n",
              "      <button class=\"colab-df-convert\" onclick=\"convertToInteractive('df-2fd6ece9-e7e0-4102-8a1a-dc450b62bb18')\"\n",
              "              title=\"Convert this dataframe to an interactive table.\"\n",
              "              style=\"display:none;\">\n",
              "        \n",
              "  <svg xmlns=\"http://www.w3.org/2000/svg\" height=\"24px\"viewBox=\"0 0 24 24\"\n",
              "       width=\"24px\">\n",
              "    <path d=\"M0 0h24v24H0V0z\" fill=\"none\"/>\n",
              "    <path d=\"M18.56 5.44l.94 2.06.94-2.06 2.06-.94-2.06-.94-.94-2.06-.94 2.06-2.06.94zm-11 1L8.5 8.5l.94-2.06 2.06-.94-2.06-.94L8.5 2.5l-.94 2.06-2.06.94zm10 10l.94 2.06.94-2.06 2.06-.94-2.06-.94-.94-2.06-.94 2.06-2.06.94z\"/><path d=\"M17.41 7.96l-1.37-1.37c-.4-.4-.92-.59-1.43-.59-.52 0-1.04.2-1.43.59L10.3 9.45l-7.72 7.72c-.78.78-.78 2.05 0 2.83L4 21.41c.39.39.9.59 1.41.59.51 0 1.02-.2 1.41-.59l7.78-7.78 2.81-2.81c.8-.78.8-2.07 0-2.86zM5.41 20L4 18.59l7.72-7.72 1.47 1.35L5.41 20z\"/>\n",
              "  </svg>\n",
              "      </button>\n",
              "      \n",
              "  <style>\n",
              "    .colab-df-container {\n",
              "      display:flex;\n",
              "      flex-wrap:wrap;\n",
              "      gap: 12px;\n",
              "    }\n",
              "\n",
              "    .colab-df-convert {\n",
              "      background-color: #E8F0FE;\n",
              "      border: none;\n",
              "      border-radius: 50%;\n",
              "      cursor: pointer;\n",
              "      display: none;\n",
              "      fill: #1967D2;\n",
              "      height: 32px;\n",
              "      padding: 0 0 0 0;\n",
              "      width: 32px;\n",
              "    }\n",
              "\n",
              "    .colab-df-convert:hover {\n",
              "      background-color: #E2EBFA;\n",
              "      box-shadow: 0px 1px 2px rgba(60, 64, 67, 0.3), 0px 1px 3px 1px rgba(60, 64, 67, 0.15);\n",
              "      fill: #174EA6;\n",
              "    }\n",
              "\n",
              "    [theme=dark] .colab-df-convert {\n",
              "      background-color: #3B4455;\n",
              "      fill: #D2E3FC;\n",
              "    }\n",
              "\n",
              "    [theme=dark] .colab-df-convert:hover {\n",
              "      background-color: #434B5C;\n",
              "      box-shadow: 0px 1px 3px 1px rgba(0, 0, 0, 0.15);\n",
              "      filter: drop-shadow(0px 1px 2px rgba(0, 0, 0, 0.3));\n",
              "      fill: #FFFFFF;\n",
              "    }\n",
              "  </style>\n",
              "\n",
              "      <script>\n",
              "        const buttonEl =\n",
              "          document.querySelector('#df-2fd6ece9-e7e0-4102-8a1a-dc450b62bb18 button.colab-df-convert');\n",
              "        buttonEl.style.display =\n",
              "          google.colab.kernel.accessAllowed ? 'block' : 'none';\n",
              "\n",
              "        async function convertToInteractive(key) {\n",
              "          const element = document.querySelector('#df-2fd6ece9-e7e0-4102-8a1a-dc450b62bb18');\n",
              "          const dataTable =\n",
              "            await google.colab.kernel.invokeFunction('convertToInteractive',\n",
              "                                                     [key], {});\n",
              "          if (!dataTable) return;\n",
              "\n",
              "          const docLinkHtml = 'Like what you see? Visit the ' +\n",
              "            '<a target=\"_blank\" href=https://colab.research.google.com/notebooks/data_table.ipynb>data table notebook</a>'\n",
              "            + ' to learn more about interactive tables.';\n",
              "          element.innerHTML = '';\n",
              "          dataTable['output_type'] = 'display_data';\n",
              "          await google.colab.output.renderOutput(dataTable, element);\n",
              "          const docLink = document.createElement('div');\n",
              "          docLink.innerHTML = docLinkHtml;\n",
              "          element.appendChild(docLink);\n",
              "        }\n",
              "      </script>\n",
              "    </div>\n",
              "  </div>\n",
              "  "
            ],
            "text/plain": [
              "                   user_name          user_location  \\\n",
              "0                  Doug Webb        Probably Europe   \n",
              "1                Dan Reynish  Medicine Hat, Alberta   \n",
              "2                          🌤                    NaN   \n",
              "3  “IT IS WHAT IT IS.”🇰🇪🇳🇿🇺🇸                     WA   \n",
              "4                Mahima Sood                    NaN   \n",
              "\n",
              "                                    user_description         user_created  \\\n",
              "0  I develop methods for effective cooperation, w...  2015-12-12 15:22:58   \n",
              "1  News Anchor at Noon and 5 pm on CHAT TV. Canad...  2011-09-10 12:17:10   \n",
              "2                                                NaN  2011-06-01 02:23:57   \n",
              "3  Heliophile🌞☀️• #Rugby • Wildlifer • #HIV • #So...  2009-04-17 13:35:02   \n",
              "4  Amy Dunne X Holly Golightly || Data Scientist ...  2018-01-26 21:57:22   \n",
              "\n",
              "   user_followers  user_friends  user_favourites  user_verified  \\\n",
              "0             157           228              496          False   \n",
              "1            1722          2500            13912          False   \n",
              "2             880           585              205          False   \n",
              "3            1143          2692            11999          False   \n",
              "4              18            65              263          False   \n",
              "\n",
              "                  date                              hashtags  \\\n",
              "0  2020-09-15 22:53:36  ['theSocialDilemma', 'joinMastodon']   \n",
              "1  2020-09-12 04:43:03                        ['WeTheNorth']   \n",
              "2  2020-09-19 07:06:53                  ['TheSocialDilemma']   \n",
              "3  2020-09-12 18:28:18       ['TheSocialDilemma', 'Netflix']   \n",
              "4  2020-09-12 18:48:53                  ['TheSocialDilemma']   \n",
              "\n",
              "               source  is_retweet  \\\n",
              "0     Twitter Web App       False   \n",
              "1     Twitter Web App       False   \n",
              "2  Twitter for iPhone       False   \n",
              "3  Twitter for iPhone       False   \n",
              "4  Twitter for iPhone       False   \n",
              "\n",
              "                                          clean_text Sentiment  \n",
              "0           Watch theSocialDilemma then joinMastodon   Neutral  \n",
              "1  With the 2019 2020 NBA season officially over ...   Neutral  \n",
              "2  if you want to really know about people go tal...  Positive  \n",
              "3       Have you watched TheSocialDilemma on Netflix   Neutral  \n",
              "4               Highly recommend TheSocialDilemma on  Positive  "
            ]
          },
          "metadata": {},
          "execution_count": 167
        }
      ]
    },
    {
      "cell_type": "code",
      "source": [
        "# Save the file \n",
        "test_data.to_csv('tweets_test_submission.csv')"
      ],
      "metadata": {
        "id": "9CsM7GUE0-Hn"
      },
      "execution_count": null,
      "outputs": []
    },
    {
      "cell_type": "markdown",
      "source": [
        "View the file in drive folder.\n",
        "<br>\n",
        "<a href=\"https://drive.google.com/drive/folders/1YWKIr5yL4mfsiXFAW1Ft7CTxlJ8KRGBh?usp=sharing\"> Drive Folder </a>"
      ],
      "metadata": {
        "id": "oEF2zwjK1eyZ"
      }
    },
    {
      "cell_type": "markdown",
      "source": [
        "# THANK YOU"
      ],
      "metadata": {
        "id": "TcJmqFma1Z9D"
      }
    },
    {
      "cell_type": "code",
      "source": [
        ""
      ],
      "metadata": {
        "id": "MrSiTzou1Ys2"
      },
      "execution_count": null,
      "outputs": []
    }
  ]
}